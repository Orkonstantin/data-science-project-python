{
 "cells": [
  {
   "cell_type": "markdown",
   "id": "b0deff51",
   "metadata": {},
   "source": [
    "# Preliminary analysis and data optimization"
   ]
  },
  {
   "cell_type": "code",
   "execution_count": 1,
   "id": "d05f0eda",
   "metadata": {},
   "outputs": [],
   "source": [
    "import pandas as pd\n",
    "from datetime import datetime\n",
    "import matplotlib as mpl\n",
    "from matplotlib import pyplot as plt\n",
    "%matplotlib inline\n",
    "import re\n",
    "import warnings\n",
    "warnings.filterwarnings(\"ignore\")"
   ]
  },
  {
   "cell_type": "code",
   "execution_count": 2,
   "id": "351db530",
   "metadata": {},
   "outputs": [
    {
     "data": {
      "text/html": [
       "<div>\n",
       "<style scoped>\n",
       "    .dataframe tbody tr th:only-of-type {\n",
       "        vertical-align: middle;\n",
       "    }\n",
       "\n",
       "    .dataframe tbody tr th {\n",
       "        vertical-align: top;\n",
       "    }\n",
       "\n",
       "    .dataframe thead th {\n",
       "        text-align: right;\n",
       "    }\n",
       "</style>\n",
       "<table border=\"1\" class=\"dataframe\">\n",
       "  <thead>\n",
       "    <tr style=\"text-align: right;\">\n",
       "      <th></th>\n",
       "      <th>Movie_Name</th>\n",
       "      <th>Release_Year</th>\n",
       "      <th>IMDB_Score</th>\n",
       "      <th>Genres</th>\n",
       "      <th>Casts</th>\n",
       "      <th>Duration</th>\n",
       "      <th>Country</th>\n",
       "      <th>Production</th>\n",
       "    </tr>\n",
       "  </thead>\n",
       "  <tbody>\n",
       "    <tr>\n",
       "      <th>0</th>\n",
       "      <td>Operation Mincemeat</td>\n",
       "      <td>2022-04-01</td>\n",
       "      <td>6.9</td>\n",
       "      <td>Drama,History,War</td>\n",
       "      <td>MarkBonnar,HattieMorahan,JohnnyFlynn,MatthewMa...</td>\n",
       "      <td>128.0</td>\n",
       "      <td>UnitedKingdom,UnitedStatesofAmerica</td>\n",
       "      <td>ArcheryPictures,AFilmLocationCompany,CohenMedi...</td>\n",
       "    </tr>\n",
       "    <tr>\n",
       "      <th>1</th>\n",
       "      <td>Memory</td>\n",
       "      <td>2022-04-28</td>\n",
       "      <td>5.6</td>\n",
       "      <td>Crime,Thriller,Action,Mystery</td>\n",
       "      <td>LiamNeeson,TajAtwal,MonicaBellucci,HaroldTorre...</td>\n",
       "      <td>114.0</td>\n",
       "      <td>UnitedStatesofAmerica</td>\n",
       "      <td>BlackBearPictures,SavilleProductions,OpenRoadF...</td>\n",
       "    </tr>\n",
       "    <tr>\n",
       "      <th>2</th>\n",
       "      <td>Stanleyville</td>\n",
       "      <td>2021-08-15</td>\n",
       "      <td>5.6</td>\n",
       "      <td>Comedy</td>\n",
       "      <td>JulianRichings,GeorgeTchortov,ChristianSerriti...</td>\n",
       "      <td>88.0</td>\n",
       "      <td>Canada</td>\n",
       "      <td>ScythiaFilms,Anthropoid</td>\n",
       "    </tr>\n",
       "    <tr>\n",
       "      <th>3</th>\n",
       "      <td>Scarborough</td>\n",
       "      <td>2021-09-10</td>\n",
       "      <td>7.1</td>\n",
       "      <td>Drama</td>\n",
       "      <td>EssenceFox,ElliePosadas,LiamDiaz,CherishViolet...</td>\n",
       "      <td>136.0</td>\n",
       "      <td>Canada</td>\n",
       "      <td>CompyFilms,levelFILM</td>\n",
       "    </tr>\n",
       "    <tr>\n",
       "      <th>4</th>\n",
       "      <td>Pride Jewel</td>\n",
       "      <td>2022-05-02</td>\n",
       "      <td>NaN</td>\n",
       "      <td>Action,Thriller</td>\n",
       "      <td>JakeVincent,SarkisBakalyan,GeorgeBoudoures,Aya...</td>\n",
       "      <td>96.0</td>\n",
       "      <td>UnitedStatesofAmerica</td>\n",
       "      <td>AppliedArtProductions,PointupFilms</td>\n",
       "    </tr>\n",
       "    <tr>\n",
       "      <th>...</th>\n",
       "      <td>...</td>\n",
       "      <td>...</td>\n",
       "      <td>...</td>\n",
       "      <td>...</td>\n",
       "      <td>...</td>\n",
       "      <td>...</td>\n",
       "      <td>...</td>\n",
       "      <td>...</td>\n",
       "    </tr>\n",
       "    <tr>\n",
       "      <th>34919</th>\n",
       "      <td>The Shooting</td>\n",
       "      <td>1966-06-02</td>\n",
       "      <td>6.5</td>\n",
       "      <td>Western</td>\n",
       "      <td>WarrenOates,WillHutchins,MilliePerkins,JackNic...</td>\n",
       "      <td>78.0</td>\n",
       "      <td>UnitedStatesofAmerica</td>\n",
       "      <td>ProteusFilms,SantaClaraProductions</td>\n",
       "    </tr>\n",
       "    <tr>\n",
       "      <th>34920</th>\n",
       "      <td>The Con Artists</td>\n",
       "      <td>2014-12-24</td>\n",
       "      <td>6.5</td>\n",
       "      <td>Thriller,Action,Crime</td>\n",
       "      <td>KimWoo-bin,LeeHyun-woo,KimYeong-cheol,JoYoon-h...</td>\n",
       "      <td>116.0</td>\n",
       "      <td>SouthKorea</td>\n",
       "      <td>LotteEntertainment</td>\n",
       "    </tr>\n",
       "    <tr>\n",
       "      <th>34921</th>\n",
       "      <td>And There Were 4</td>\n",
       "      <td>2018-05-26</td>\n",
       "      <td>4.6</td>\n",
       "      <td>Action,Drama,Fantasy</td>\n",
       "      <td>ShadnerIfrene,NathanielRyanJ,MysonneLinen,BekM...</td>\n",
       "      <td>83.0</td>\n",
       "      <td>NaN</td>\n",
       "      <td>NaN</td>\n",
       "    </tr>\n",
       "    <tr>\n",
       "      <th>34922</th>\n",
       "      <td>From Time to Time</td>\n",
       "      <td>2009-01-01</td>\n",
       "      <td>6.7</td>\n",
       "      <td>Adventure,Fantasy,Drama</td>\n",
       "      <td>MaggieSmith,DominicWest,TimothySpall,Alexander...</td>\n",
       "      <td>95.0</td>\n",
       "      <td>UnitedKingdom</td>\n",
       "      <td>LionheadStudios,EalingStudios</td>\n",
       "    </tr>\n",
       "    <tr>\n",
       "      <th>34923</th>\n",
       "      <td>Sanshiro Sugata</td>\n",
       "      <td>1943-03-25</td>\n",
       "      <td>6.7</td>\n",
       "      <td>Drama</td>\n",
       "      <td>DenjirôÔkôchi,SusumuFujita,YukikoTodoroki,Taka...</td>\n",
       "      <td>80.0</td>\n",
       "      <td>Japan</td>\n",
       "      <td>TohoFilm(Eiga)Co.Ltd.,TohoCompany,Ltd.</td>\n",
       "    </tr>\n",
       "  </tbody>\n",
       "</table>\n",
       "<p>34924 rows × 8 columns</p>\n",
       "</div>"
      ],
      "text/plain": [
       "                Movie_Name Release_Year  IMDB_Score  \\\n",
       "0      Operation Mincemeat   2022-04-01         6.9   \n",
       "1                   Memory   2022-04-28         5.6   \n",
       "2             Stanleyville   2021-08-15         5.6   \n",
       "3              Scarborough   2021-09-10         7.1   \n",
       "4              Pride Jewel   2022-05-02         NaN   \n",
       "...                    ...          ...         ...   \n",
       "34919         The Shooting   1966-06-02         6.5   \n",
       "34920      The Con Artists   2014-12-24         6.5   \n",
       "34921     And There Were 4   2018-05-26         4.6   \n",
       "34922    From Time to Time   2009-01-01         6.7   \n",
       "34923      Sanshiro Sugata   1943-03-25         6.7   \n",
       "\n",
       "                              Genres  \\\n",
       "0                  Drama,History,War   \n",
       "1      Crime,Thriller,Action,Mystery   \n",
       "2                             Comedy   \n",
       "3                              Drama   \n",
       "4                    Action,Thriller   \n",
       "...                              ...   \n",
       "34919                        Western   \n",
       "34920          Thriller,Action,Crime   \n",
       "34921           Action,Drama,Fantasy   \n",
       "34922        Adventure,Fantasy,Drama   \n",
       "34923                          Drama   \n",
       "\n",
       "                                                   Casts  Duration  \\\n",
       "0      MarkBonnar,HattieMorahan,JohnnyFlynn,MatthewMa...     128.0   \n",
       "1      LiamNeeson,TajAtwal,MonicaBellucci,HaroldTorre...     114.0   \n",
       "2      JulianRichings,GeorgeTchortov,ChristianSerriti...      88.0   \n",
       "3      EssenceFox,ElliePosadas,LiamDiaz,CherishViolet...     136.0   \n",
       "4      JakeVincent,SarkisBakalyan,GeorgeBoudoures,Aya...      96.0   \n",
       "...                                                  ...       ...   \n",
       "34919  WarrenOates,WillHutchins,MilliePerkins,JackNic...      78.0   \n",
       "34920  KimWoo-bin,LeeHyun-woo,KimYeong-cheol,JoYoon-h...     116.0   \n",
       "34921  ShadnerIfrene,NathanielRyanJ,MysonneLinen,BekM...      83.0   \n",
       "34922  MaggieSmith,DominicWest,TimothySpall,Alexander...      95.0   \n",
       "34923  DenjirôÔkôchi,SusumuFujita,YukikoTodoroki,Taka...      80.0   \n",
       "\n",
       "                                   Country  \\\n",
       "0      UnitedKingdom,UnitedStatesofAmerica   \n",
       "1                    UnitedStatesofAmerica   \n",
       "2                                   Canada   \n",
       "3                                   Canada   \n",
       "4                    UnitedStatesofAmerica   \n",
       "...                                    ...   \n",
       "34919                UnitedStatesofAmerica   \n",
       "34920                           SouthKorea   \n",
       "34921                                  NaN   \n",
       "34922                        UnitedKingdom   \n",
       "34923                                Japan   \n",
       "\n",
       "                                              Production  \n",
       "0      ArcheryPictures,AFilmLocationCompany,CohenMedi...  \n",
       "1      BlackBearPictures,SavilleProductions,OpenRoadF...  \n",
       "2                                ScythiaFilms,Anthropoid  \n",
       "3                                   CompyFilms,levelFILM  \n",
       "4                     AppliedArtProductions,PointupFilms  \n",
       "...                                                  ...  \n",
       "34919                 ProteusFilms,SantaClaraProductions  \n",
       "34920                                 LotteEntertainment  \n",
       "34921                                                NaN  \n",
       "34922                      LionheadStudios,EalingStudios  \n",
       "34923             TohoFilm(Eiga)Co.Ltd.,TohoCompany,Ltd.  \n",
       "\n",
       "[34924 rows x 8 columns]"
      ]
     },
     "execution_count": 2,
     "metadata": {},
     "output_type": "execute_result"
    }
   ],
   "source": [
    "himovies_df=pd.read_csv('data\\ALL_RAW_DATA.csv')\n",
    "himovies_df"
   ]
  },
  {
   "cell_type": "markdown",
   "id": "80ab5177",
   "metadata": {},
   "source": [
    "## Handling  duplicate data"
   ]
  },
  {
   "cell_type": "code",
   "execution_count": 3,
   "id": "fe6393e9",
   "metadata": {},
   "outputs": [
    {
     "data": {
      "text/plain": [
       "1791"
      ]
     },
     "execution_count": 3,
     "metadata": {},
     "output_type": "execute_result"
    }
   ],
   "source": [
    "himovies_df.duplicated(subset='Movie_Name').sum()"
   ]
  },
  {
   "cell_type": "code",
   "execution_count": 4,
   "id": "7bda63f0",
   "metadata": {},
   "outputs": [
    {
     "data": {
      "text/html": [
       "<div>\n",
       "<style scoped>\n",
       "    .dataframe tbody tr th:only-of-type {\n",
       "        vertical-align: middle;\n",
       "    }\n",
       "\n",
       "    .dataframe tbody tr th {\n",
       "        vertical-align: top;\n",
       "    }\n",
       "\n",
       "    .dataframe thead th {\n",
       "        text-align: right;\n",
       "    }\n",
       "</style>\n",
       "<table border=\"1\" class=\"dataframe\">\n",
       "  <thead>\n",
       "    <tr style=\"text-align: right;\">\n",
       "      <th></th>\n",
       "      <th>Movie_Name</th>\n",
       "      <th>Release_Year</th>\n",
       "      <th>IMDB_Score</th>\n",
       "      <th>Genres</th>\n",
       "      <th>Casts</th>\n",
       "      <th>Duration</th>\n",
       "      <th>Country</th>\n",
       "      <th>Production</th>\n",
       "    </tr>\n",
       "  </thead>\n",
       "  <tbody>\n",
       "    <tr>\n",
       "      <th>0</th>\n",
       "      <td>Operation Mincemeat</td>\n",
       "      <td>2022-04-01</td>\n",
       "      <td>6.9</td>\n",
       "      <td>Drama,History,War</td>\n",
       "      <td>MarkBonnar,HattieMorahan,JohnnyFlynn,MatthewMa...</td>\n",
       "      <td>128.0</td>\n",
       "      <td>UnitedKingdom,UnitedStatesofAmerica</td>\n",
       "      <td>ArcheryPictures,AFilmLocationCompany,CohenMedi...</td>\n",
       "    </tr>\n",
       "    <tr>\n",
       "      <th>1</th>\n",
       "      <td>Memory</td>\n",
       "      <td>2022-04-28</td>\n",
       "      <td>5.6</td>\n",
       "      <td>Crime,Thriller,Action,Mystery</td>\n",
       "      <td>LiamNeeson,TajAtwal,MonicaBellucci,HaroldTorre...</td>\n",
       "      <td>114.0</td>\n",
       "      <td>UnitedStatesofAmerica</td>\n",
       "      <td>BlackBearPictures,SavilleProductions,OpenRoadF...</td>\n",
       "    </tr>\n",
       "    <tr>\n",
       "      <th>2</th>\n",
       "      <td>Stanleyville</td>\n",
       "      <td>2021-08-15</td>\n",
       "      <td>5.6</td>\n",
       "      <td>Comedy</td>\n",
       "      <td>JulianRichings,GeorgeTchortov,ChristianSerriti...</td>\n",
       "      <td>88.0</td>\n",
       "      <td>Canada</td>\n",
       "      <td>ScythiaFilms,Anthropoid</td>\n",
       "    </tr>\n",
       "    <tr>\n",
       "      <th>3</th>\n",
       "      <td>Scarborough</td>\n",
       "      <td>2021-09-10</td>\n",
       "      <td>7.1</td>\n",
       "      <td>Drama</td>\n",
       "      <td>EssenceFox,ElliePosadas,LiamDiaz,CherishViolet...</td>\n",
       "      <td>136.0</td>\n",
       "      <td>Canada</td>\n",
       "      <td>CompyFilms,levelFILM</td>\n",
       "    </tr>\n",
       "    <tr>\n",
       "      <th>4</th>\n",
       "      <td>Pride Jewel</td>\n",
       "      <td>2022-05-02</td>\n",
       "      <td>NaN</td>\n",
       "      <td>Action,Thriller</td>\n",
       "      <td>JakeVincent,SarkisBakalyan,GeorgeBoudoures,Aya...</td>\n",
       "      <td>96.0</td>\n",
       "      <td>UnitedStatesofAmerica</td>\n",
       "      <td>AppliedArtProductions,PointupFilms</td>\n",
       "    </tr>\n",
       "    <tr>\n",
       "      <th>...</th>\n",
       "      <td>...</td>\n",
       "      <td>...</td>\n",
       "      <td>...</td>\n",
       "      <td>...</td>\n",
       "      <td>...</td>\n",
       "      <td>...</td>\n",
       "      <td>...</td>\n",
       "      <td>...</td>\n",
       "    </tr>\n",
       "    <tr>\n",
       "      <th>34919</th>\n",
       "      <td>The Shooting</td>\n",
       "      <td>1966-06-02</td>\n",
       "      <td>6.5</td>\n",
       "      <td>Western</td>\n",
       "      <td>WarrenOates,WillHutchins,MilliePerkins,JackNic...</td>\n",
       "      <td>78.0</td>\n",
       "      <td>UnitedStatesofAmerica</td>\n",
       "      <td>ProteusFilms,SantaClaraProductions</td>\n",
       "    </tr>\n",
       "    <tr>\n",
       "      <th>34920</th>\n",
       "      <td>The Con Artists</td>\n",
       "      <td>2014-12-24</td>\n",
       "      <td>6.5</td>\n",
       "      <td>Thriller,Action,Crime</td>\n",
       "      <td>KimWoo-bin,LeeHyun-woo,KimYeong-cheol,JoYoon-h...</td>\n",
       "      <td>116.0</td>\n",
       "      <td>SouthKorea</td>\n",
       "      <td>LotteEntertainment</td>\n",
       "    </tr>\n",
       "    <tr>\n",
       "      <th>34921</th>\n",
       "      <td>And There Were 4</td>\n",
       "      <td>2018-05-26</td>\n",
       "      <td>4.6</td>\n",
       "      <td>Action,Drama,Fantasy</td>\n",
       "      <td>ShadnerIfrene,NathanielRyanJ,MysonneLinen,BekM...</td>\n",
       "      <td>83.0</td>\n",
       "      <td>NaN</td>\n",
       "      <td>NaN</td>\n",
       "    </tr>\n",
       "    <tr>\n",
       "      <th>34922</th>\n",
       "      <td>From Time to Time</td>\n",
       "      <td>2009-01-01</td>\n",
       "      <td>6.7</td>\n",
       "      <td>Adventure,Fantasy,Drama</td>\n",
       "      <td>MaggieSmith,DominicWest,TimothySpall,Alexander...</td>\n",
       "      <td>95.0</td>\n",
       "      <td>UnitedKingdom</td>\n",
       "      <td>LionheadStudios,EalingStudios</td>\n",
       "    </tr>\n",
       "    <tr>\n",
       "      <th>34923</th>\n",
       "      <td>Sanshiro Sugata</td>\n",
       "      <td>1943-03-25</td>\n",
       "      <td>6.7</td>\n",
       "      <td>Drama</td>\n",
       "      <td>DenjirôÔkôchi,SusumuFujita,YukikoTodoroki,Taka...</td>\n",
       "      <td>80.0</td>\n",
       "      <td>Japan</td>\n",
       "      <td>TohoFilm(Eiga)Co.Ltd.,TohoCompany,Ltd.</td>\n",
       "    </tr>\n",
       "  </tbody>\n",
       "</table>\n",
       "<p>33133 rows × 8 columns</p>\n",
       "</div>"
      ],
      "text/plain": [
       "                Movie_Name Release_Year  IMDB_Score  \\\n",
       "0      Operation Mincemeat   2022-04-01         6.9   \n",
       "1                   Memory   2022-04-28         5.6   \n",
       "2             Stanleyville   2021-08-15         5.6   \n",
       "3              Scarborough   2021-09-10         7.1   \n",
       "4              Pride Jewel   2022-05-02         NaN   \n",
       "...                    ...          ...         ...   \n",
       "34919         The Shooting   1966-06-02         6.5   \n",
       "34920      The Con Artists   2014-12-24         6.5   \n",
       "34921     And There Were 4   2018-05-26         4.6   \n",
       "34922    From Time to Time   2009-01-01         6.7   \n",
       "34923      Sanshiro Sugata   1943-03-25         6.7   \n",
       "\n",
       "                              Genres  \\\n",
       "0                  Drama,History,War   \n",
       "1      Crime,Thriller,Action,Mystery   \n",
       "2                             Comedy   \n",
       "3                              Drama   \n",
       "4                    Action,Thriller   \n",
       "...                              ...   \n",
       "34919                        Western   \n",
       "34920          Thriller,Action,Crime   \n",
       "34921           Action,Drama,Fantasy   \n",
       "34922        Adventure,Fantasy,Drama   \n",
       "34923                          Drama   \n",
       "\n",
       "                                                   Casts  Duration  \\\n",
       "0      MarkBonnar,HattieMorahan,JohnnyFlynn,MatthewMa...     128.0   \n",
       "1      LiamNeeson,TajAtwal,MonicaBellucci,HaroldTorre...     114.0   \n",
       "2      JulianRichings,GeorgeTchortov,ChristianSerriti...      88.0   \n",
       "3      EssenceFox,ElliePosadas,LiamDiaz,CherishViolet...     136.0   \n",
       "4      JakeVincent,SarkisBakalyan,GeorgeBoudoures,Aya...      96.0   \n",
       "...                                                  ...       ...   \n",
       "34919  WarrenOates,WillHutchins,MilliePerkins,JackNic...      78.0   \n",
       "34920  KimWoo-bin,LeeHyun-woo,KimYeong-cheol,JoYoon-h...     116.0   \n",
       "34921  ShadnerIfrene,NathanielRyanJ,MysonneLinen,BekM...      83.0   \n",
       "34922  MaggieSmith,DominicWest,TimothySpall,Alexander...      95.0   \n",
       "34923  DenjirôÔkôchi,SusumuFujita,YukikoTodoroki,Taka...      80.0   \n",
       "\n",
       "                                   Country  \\\n",
       "0      UnitedKingdom,UnitedStatesofAmerica   \n",
       "1                    UnitedStatesofAmerica   \n",
       "2                                   Canada   \n",
       "3                                   Canada   \n",
       "4                    UnitedStatesofAmerica   \n",
       "...                                    ...   \n",
       "34919                UnitedStatesofAmerica   \n",
       "34920                           SouthKorea   \n",
       "34921                                  NaN   \n",
       "34922                        UnitedKingdom   \n",
       "34923                                Japan   \n",
       "\n",
       "                                              Production  \n",
       "0      ArcheryPictures,AFilmLocationCompany,CohenMedi...  \n",
       "1      BlackBearPictures,SavilleProductions,OpenRoadF...  \n",
       "2                                ScythiaFilms,Anthropoid  \n",
       "3                                   CompyFilms,levelFILM  \n",
       "4                     AppliedArtProductions,PointupFilms  \n",
       "...                                                  ...  \n",
       "34919                 ProteusFilms,SantaClaraProductions  \n",
       "34920                                 LotteEntertainment  \n",
       "34921                                                NaN  \n",
       "34922                      LionheadStudios,EalingStudios  \n",
       "34923             TohoFilm(Eiga)Co.Ltd.,TohoCompany,Ltd.  \n",
       "\n",
       "[33133 rows x 8 columns]"
      ]
     },
     "execution_count": 4,
     "metadata": {},
     "output_type": "execute_result"
    }
   ],
   "source": [
    "himovies_df=himovies_df.drop_duplicates(subset='Movie_Name')\n",
    "himovies_df"
   ]
  },
  {
   "cell_type": "markdown",
   "id": "74fcf785",
   "metadata": {},
   "source": [
    "## Handling missing data:"
   ]
  },
  {
   "cell_type": "code",
   "execution_count": 5,
   "id": "d8af9e06",
   "metadata": {},
   "outputs": [
    {
     "data": {
      "text/plain": [
       "(33133, 8)"
      ]
     },
     "execution_count": 5,
     "metadata": {},
     "output_type": "execute_result"
    }
   ],
   "source": [
    "himovies_df.shape"
   ]
  },
  {
   "cell_type": "code",
   "execution_count": 6,
   "id": "677ed9ca",
   "metadata": {},
   "outputs": [
    {
     "data": {
      "text/plain": [
       "Movie_Name         0\n",
       "Release_Year       1\n",
       "IMDB_Score       621\n",
       "Genres          1528\n",
       "Casts           1780\n",
       "Duration        1764\n",
       "Country         5055\n",
       "Production      6858\n",
       "dtype: int64"
      ]
     },
     "execution_count": 6,
     "metadata": {},
     "output_type": "execute_result"
    }
   ],
   "source": [
    "himovies_df.isnull().sum()"
   ]
  },
  {
   "cell_type": "code",
   "execution_count": 7,
   "id": "278c46f9",
   "metadata": {},
   "outputs": [],
   "source": [
    "himovies_df=himovies_df.dropna(axis=0,thresh=len(himovies_df.columns)-2)"
   ]
  },
  {
   "cell_type": "code",
   "execution_count": 8,
   "id": "1a2b733a",
   "metadata": {},
   "outputs": [],
   "source": [
    "himovies_df=himovies_df.dropna(axis=0,subset=['IMDB_Score'])"
   ]
  },
  {
   "cell_type": "code",
   "execution_count": 9,
   "id": "1f679951",
   "metadata": {},
   "outputs": [],
   "source": [
    "himovies_df=himovies_df.reset_index(level=None, drop=True, inplace=False, col_level=0, col_fill='')"
   ]
  },
  {
   "cell_type": "code",
   "execution_count": 10,
   "id": "e719b9d0",
   "metadata": {},
   "outputs": [
    {
     "data": {
      "text/plain": [
       "90.0     1976\n",
       "100.0     911\n",
       "95.0      911\n",
       "85.0      891\n",
       "84.0      817\n",
       "         ... \n",
       "229.0       1\n",
       "207.0       1\n",
       "233.0       1\n",
       "212.0       1\n",
       "235.0       1\n",
       "Name: Duration, Length: 255, dtype: int64"
      ]
     },
     "execution_count": 10,
     "metadata": {},
     "output_type": "execute_result"
    }
   ],
   "source": [
    "himovies_df['Duration'].value_counts()"
   ]
  },
  {
   "cell_type": "code",
   "execution_count": 11,
   "id": "2ce4f76f",
   "metadata": {},
   "outputs": [
    {
     "data": {
      "text/plain": [
       "Drama                                      2829\n",
       "Comedy                                     1931\n",
       "Documentary                                1292\n",
       "Horror                                     1221\n",
       "Comedy,Drama                                680\n",
       "                                           ... \n",
       "Adventure,History,Action,Drama                1\n",
       "War,TVMovie,Drama,History,Documentary         1\n",
       "ScienceFiction,Horror,Fantasy,Adventure       1\n",
       "Action,Thriller,Adventure,Comedy,Horror       1\n",
       "Drama,Family,Fantasy,ScienceFiction           1\n",
       "Name: Genres, Length: 4164, dtype: int64"
      ]
     },
     "execution_count": 11,
     "metadata": {},
     "output_type": "execute_result"
    }
   ],
   "source": [
    "himovies_df['Genres'].value_counts()"
   ]
  },
  {
   "cell_type": "code",
   "execution_count": 12,
   "id": "7c329984",
   "metadata": {},
   "outputs": [],
   "source": [
    "for col in himovies_df.columns:\n",
    "    if col == 'Casts' or col =='Production':\n",
    "        himovies_df[col].fillna('XXX',inplace= True)\n",
    "    else:\n",
    "        himovies_df[col].fillna(himovies_df[col].mode()[0],inplace= True)"
   ]
  },
  {
   "cell_type": "code",
   "execution_count": 13,
   "id": "e46f382b",
   "metadata": {},
   "outputs": [
    {
     "data": {
      "text/plain": [
       "Movie_Name      0\n",
       "Release_Year    0\n",
       "IMDB_Score      0\n",
       "Genres          0\n",
       "Casts           0\n",
       "Duration        0\n",
       "Country         0\n",
       "Production      0\n",
       "dtype: int64"
      ]
     },
     "execution_count": 13,
     "metadata": {},
     "output_type": "execute_result"
    }
   ],
   "source": [
    "himovies_df.isnull().sum()"
   ]
  },
  {
   "cell_type": "code",
   "execution_count": 14,
   "id": "962ab8f8",
   "metadata": {},
   "outputs": [],
   "source": [
    "himovies_df['Duration'] = himovies_df['Duration'].astype(int)"
   ]
  },
  {
   "cell_type": "markdown",
   "id": "e97c3297",
   "metadata": {},
   "source": [
    "## Handling outliers data"
   ]
  },
  {
   "cell_type": "code",
   "execution_count": 15,
   "id": "39701a6e",
   "metadata": {},
   "outputs": [
    {
     "data": {
      "text/plain": [
       "count    30582.000000\n",
       "mean         5.881349\n",
       "std          1.301019\n",
       "min          1.100000\n",
       "25%          5.100000\n",
       "50%          6.100000\n",
       "75%          6.800000\n",
       "max          9.300000\n",
       "Name: IMDB_Score, dtype: float64"
      ]
     },
     "execution_count": 15,
     "metadata": {},
     "output_type": "execute_result"
    }
   ],
   "source": [
    "himovies_df['IMDB_Score'].describe()"
   ]
  },
  {
   "cell_type": "code",
   "execution_count": 16,
   "id": "5c5668f0",
   "metadata": {},
   "outputs": [
    {
     "data": {
      "image/png": "[encoded data removed]",
      "text/plain": [
       "<Figure size 432x288 with 1 Axes>"
      ]
     },
     "metadata": {
      "needs_background": "light"
     },
     "output_type": "display_data"
    }
   ],
   "source": [
    "plt.hist(himovies_df.IMDB_Score, bins=20)\n",
    "plt.xlabel=(\"IMDB_Score\")\n",
    "plt.ylabel=(\"Frequency\")"
   ]
  },
  {
   "cell_type": "markdown",
   "id": "dd99f0fe",
   "metadata": {},
   "source": [
    "### • We can see that the rating is in the correct range between 1 and 10 so there are no exceptions in this  column."
   ]
  },
  {
   "cell_type": "code",
   "execution_count": 17,
   "id": "6a8b35c6",
   "metadata": {},
   "outputs": [
    {
     "data": {
      "text/plain": [
       "Text(0, 0.5, 'Frequency')"
      ]
     },
     "execution_count": 17,
     "metadata": {},
     "output_type": "execute_result"
    },
    {
     "data": {
      "image/png": "[encoded data removed]",
      "text/plain": [
       "<Figure size 1800x360 with 2 Axes>"
      ]
     },
     "metadata": {
      "needs_background": "light"
     },
     "output_type": "display_data"
    }
   ],
   "source": [
    "fig = plt.figure(figsize=(25, 5))\n",
    "fig1 = fig.add_subplot(1,3,1)\n",
    "fig2=fig.add_subplot(1,3,2)\n",
    "\n",
    "fig1.hist(himovies_df['Duration'],bins=80)\n",
    "fig1.set_title('Outlires in Duration')\n",
    "fig1.set_xlabel(\"Duration\")\n",
    "fig1.set_ylabel(\"Frequency\")\n",
    "\n",
    "x=[i for i in himovies_df['Duration'].index]\n",
    "\n",
    "fig2.scatter(himovies_df['Duration'],x)\n",
    "fig2.set_title('Outlires in Duration')\n",
    "fig2.set_xlabel(\"Duration\")\n",
    "fig2.set_ylabel(\"Frequency\")\n"
   ]
  },
  {
   "cell_type": "code",
   "execution_count": 18,
   "id": "6935b6c7",
   "metadata": {},
   "outputs": [
    {
     "data": {
      "text/plain": [
       "count    30582.000000\n",
       "mean        98.030377\n",
       "std         23.534489\n",
       "min          1.000000\n",
       "25%         87.000000\n",
       "50%         95.000000\n",
       "75%        108.000000\n",
       "max        811.000000\n",
       "Name: Duration, dtype: float64"
      ]
     },
     "execution_count": 18,
     "metadata": {},
     "output_type": "execute_result"
    }
   ],
   "source": [
    "himovies_df['Duration'].describe()"
   ]
  },
  {
   "cell_type": "markdown",
   "id": "af3a650a",
   "metadata": {},
   "source": [
    "### • In the histograma graph we can't see clearly the outliers.\n",
    "### • In the scatter plot graph and the describe function we can see that there are movies with very short duration like (1 min) in one side, and on the other hand there are movies with very long duration such as (811 min) which indicates that there are a outliers."
   ]
  },
  {
   "cell_type": "code",
   "execution_count": 19,
   "id": "422f9d67",
   "metadata": {},
   "outputs": [
    {
     "data": {
      "text/plain": [
       "168"
      ]
     },
     "execution_count": 19,
     "metadata": {},
     "output_type": "execute_result"
    }
   ],
   "source": [
    "sum(himovies_df['Duration']>=180)"
   ]
  },
  {
   "cell_type": "code",
   "execution_count": 20,
   "id": "3aaf3cc7",
   "metadata": {},
   "outputs": [
    {
     "data": {
      "text/plain": [
       "998"
      ]
     },
     "execution_count": 20,
     "metadata": {},
     "output_type": "execute_result"
    }
   ],
   "source": [
    "sum(himovies_df['Duration']<=60)"
   ]
  },
  {
   "cell_type": "code",
   "execution_count": 21,
   "id": "a2cccc27",
   "metadata": {},
   "outputs": [],
   "source": [
    "himovies_df=himovies_df[himovies_df['Duration']<=180]"
   ]
  },
  {
   "cell_type": "code",
   "execution_count": 22,
   "id": "31eb4efc",
   "metadata": {},
   "outputs": [],
   "source": [
    "himovies_df=himovies_df[himovies_df['Duration']>=60]"
   ]
  },
  {
   "cell_type": "code",
   "execution_count": 23,
   "id": "f24b18ec",
   "metadata": {},
   "outputs": [
    {
     "data": {
      "text/plain": [
       "count    29548.000000\n",
       "mean        99.289123\n",
       "std         17.754312\n",
       "min         60.000000\n",
       "25%         88.000000\n",
       "50%         95.000000\n",
       "75%        108.000000\n",
       "max        180.000000\n",
       "Name: Duration, dtype: float64"
      ]
     },
     "execution_count": 23,
     "metadata": {},
     "output_type": "execute_result"
    }
   ],
   "source": [
    "himovies_df['Duration'].describe()"
   ]
  },
  {
   "cell_type": "markdown",
   "id": "c897d96b",
   "metadata": {},
   "source": [
    "### • We chose a standard length of movies that is between one to three hours, after an online check that indicate this information. And so we filtered out the outliers movies."
   ]
  },
  {
   "cell_type": "code",
   "execution_count": 24,
   "id": "50470a23",
   "metadata": {},
   "outputs": [
    {
     "data": {
      "text/plain": [
       "Text(0, 0.5, 'Frequency')"
      ]
     },
     "execution_count": 24,
     "metadata": {},
     "output_type": "execute_result"
    },
    {
     "data": {
      "image/png": "[encoded data removed]",
      "text/plain": [
       "<Figure size 1800x360 with 2 Axes>"
      ]
     },
     "metadata": {
      "needs_background": "light"
     },
     "output_type": "display_data"
    }
   ],
   "source": [
    "fig = plt.figure(figsize=(25, 5))\n",
    "fig1 = fig.add_subplot(1,3,1)\n",
    "fig2=fig.add_subplot(1,3,2)\n",
    "\n",
    "fig1.hist(himovies_df['Duration'],bins=80)\n",
    "fig1.set_title('Outlires in Duration')\n",
    "fig1.set_xlabel(\"Duration\")\n",
    "fig1.set_ylabel(\"Frequency\")\n",
    "\n",
    "x=[i for i in himovies_df['Duration'].index]\n",
    "\n",
    "fig2.scatter(himovies_df['Duration'],x)\n",
    "fig2.set_title('Outlires in Duration')\n",
    "fig2.set_xlabel(\"Duration\")\n",
    "fig2.set_ylabel(\"Frequency\")\n"
   ]
  },
  {
   "cell_type": "markdown",
   "id": "11f3f6f8",
   "metadata": {},
   "source": [
    "## Data Optimization"
   ]
  },
  {
   "cell_type": "markdown",
   "id": "2f4db418",
   "metadata": {},
   "source": [
    "### • We saw that there are films with details of main and secondary countries and we decided to take the main. \n",
    "### • We use the Text Analysis method that we learned in the course."
   ]
  },
  {
   "cell_type": "code",
   "execution_count": 25,
   "id": "de17ad6a",
   "metadata": {},
   "outputs": [],
   "source": [
    "for idx,row in enumerate (himovies_df['Country']):\n",
    "    \n",
    "    pattern = \"\\w+\"\n",
    "    \n",
    "    x = re.search(pattern,row)[0]\n",
    "\n",
    "    himovies_df['Country'].at[idx]=x"
   ]
  },
  {
   "cell_type": "code",
   "execution_count": 26,
   "id": "1a067fd3",
   "metadata": {},
   "outputs": [],
   "source": [
    "country_filter=himovies_df['Country'].value_counts().loc[lambda x: x<2].to_frame()\n",
    "l=country_filter.T.columns\n",
    "for i in l:\n",
    "    idx=himovies_df[himovies_df['Country']==i].index[0]\n",
    "    himovies_df.drop([idx], axis=0, inplace=True)"
   ]
  },
  {
   "cell_type": "code",
   "execution_count": 27,
   "id": "04422641",
   "metadata": {},
   "outputs": [],
   "source": [
    "himovies_df=himovies_df.reset_index(level=None, drop=True, inplace=False, col_level=0, col_fill='')"
   ]
  },
  {
   "cell_type": "markdown",
   "id": "8ab20bb3",
   "metadata": {},
   "source": [
    "### • Change the date format for convenient work"
   ]
  },
  {
   "cell_type": "code",
   "execution_count": 28,
   "id": "1fa01c32",
   "metadata": {},
   "outputs": [],
   "source": [
    "for idx,row in enumerate (himovies_df[\"Release_Year\"]):\n",
    "    if row == '0000-00-00':\n",
    "        himovies_df.drop([idx], axis=0, inplace=True)\n",
    "        continue\n",
    "    datem = datetime.strptime(row, '%Y-%m-%d')\n",
    "    row=datem.year\n",
    "    himovies_df['Release_Year'].at[idx] = row"
   ]
  },
  {
   "cell_type": "code",
   "execution_count": 29,
   "id": "7a8d5890",
   "metadata": {},
   "outputs": [],
   "source": [
    "#himovies_df.to_csv(r'C:\\Users\\almog\\Downloads\\‏‏תיקיה חדשה (3)\\data science project python\\data\\Clean_df.csv', index=False)\n",
    "himovies_df.to_csv(r'C:\\Users\\kon31\\OneDrive\\Desktop\\data science project python\\data\\Clean_df.csv', index=False)"
   ]
  },
  {
   "cell_type": "markdown",
   "id": "1f6f94b2",
   "metadata": {},
   "source": [
    "## Now we have a clean dataframe that can be worked with, let's take a look:"
   ]
  },
  {
   "cell_type": "code",
   "execution_count": 30,
   "id": "d6b24e54",
   "metadata": {},
   "outputs": [
    {
     "data": {
      "text/html": [
       "<div>\n",
       "<style scoped>\n",
       "    .dataframe tbody tr th:only-of-type {\n",
       "        vertical-align: middle;\n",
       "    }\n",
       "\n",
       "    .dataframe tbody tr th {\n",
       "        vertical-align: top;\n",
       "    }\n",
       "\n",
       "    .dataframe thead th {\n",
       "        text-align: right;\n",
       "    }\n",
       "</style>\n",
       "<table border=\"1\" class=\"dataframe\">\n",
       "  <thead>\n",
       "    <tr style=\"text-align: right;\">\n",
       "      <th></th>\n",
       "      <th>Movie_Name</th>\n",
       "      <th>Release_Year</th>\n",
       "      <th>IMDB_Score</th>\n",
       "      <th>Genres</th>\n",
       "      <th>Casts</th>\n",
       "      <th>Duration</th>\n",
       "      <th>Country</th>\n",
       "      <th>Production</th>\n",
       "    </tr>\n",
       "  </thead>\n",
       "  <tbody>\n",
       "    <tr>\n",
       "      <th>0</th>\n",
       "      <td>Operation Mincemeat</td>\n",
       "      <td>2022</td>\n",
       "      <td>6.9</td>\n",
       "      <td>Drama,History,War</td>\n",
       "      <td>MarkBonnar,HattieMorahan,JohnnyFlynn,MatthewMa...</td>\n",
       "      <td>128</td>\n",
       "      <td>UnitedKingdom</td>\n",
       "      <td>ArcheryPictures,AFilmLocationCompany,CohenMedi...</td>\n",
       "    </tr>\n",
       "    <tr>\n",
       "      <th>1</th>\n",
       "      <td>Memory</td>\n",
       "      <td>2022</td>\n",
       "      <td>5.6</td>\n",
       "      <td>Crime,Thriller,Action,Mystery</td>\n",
       "      <td>LiamNeeson,TajAtwal,MonicaBellucci,HaroldTorre...</td>\n",
       "      <td>114</td>\n",
       "      <td>UnitedStatesofAmerica</td>\n",
       "      <td>BlackBearPictures,SavilleProductions,OpenRoadF...</td>\n",
       "    </tr>\n",
       "    <tr>\n",
       "      <th>2</th>\n",
       "      <td>Stanleyville</td>\n",
       "      <td>2021</td>\n",
       "      <td>5.6</td>\n",
       "      <td>Comedy</td>\n",
       "      <td>JulianRichings,GeorgeTchortov,ChristianSerriti...</td>\n",
       "      <td>88</td>\n",
       "      <td>Canada</td>\n",
       "      <td>ScythiaFilms,Anthropoid</td>\n",
       "    </tr>\n",
       "    <tr>\n",
       "      <th>3</th>\n",
       "      <td>Scarborough</td>\n",
       "      <td>2021</td>\n",
       "      <td>7.1</td>\n",
       "      <td>Drama</td>\n",
       "      <td>EssenceFox,ElliePosadas,LiamDiaz,CherishViolet...</td>\n",
       "      <td>136</td>\n",
       "      <td>Canada</td>\n",
       "      <td>CompyFilms,levelFILM</td>\n",
       "    </tr>\n",
       "    <tr>\n",
       "      <th>4</th>\n",
       "      <td>It's Hard But It's Fair</td>\n",
       "      <td>2022</td>\n",
       "      <td>5.6</td>\n",
       "      <td>Drama</td>\n",
       "      <td>Osaze'Agod'Niamke,Derrick'Deuce'Keys,Moonrise'...</td>\n",
       "      <td>74</td>\n",
       "      <td>UnitedStatesofAmerica</td>\n",
       "      <td>MemphvilleManagementandDistribution</td>\n",
       "    </tr>\n",
       "    <tr>\n",
       "      <th>...</th>\n",
       "      <td>...</td>\n",
       "      <td>...</td>\n",
       "      <td>...</td>\n",
       "      <td>...</td>\n",
       "      <td>...</td>\n",
       "      <td>...</td>\n",
       "      <td>...</td>\n",
       "      <td>...</td>\n",
       "    </tr>\n",
       "    <tr>\n",
       "      <th>29376</th>\n",
       "      <td>The Shooting</td>\n",
       "      <td>1966</td>\n",
       "      <td>6.5</td>\n",
       "      <td>Western</td>\n",
       "      <td>WarrenOates,WillHutchins,MilliePerkins,JackNic...</td>\n",
       "      <td>78</td>\n",
       "      <td>UnitedStatesofAmerica</td>\n",
       "      <td>ProteusFilms,SantaClaraProductions</td>\n",
       "    </tr>\n",
       "    <tr>\n",
       "      <th>29377</th>\n",
       "      <td>The Con Artists</td>\n",
       "      <td>2014</td>\n",
       "      <td>6.5</td>\n",
       "      <td>Thriller,Action,Crime</td>\n",
       "      <td>KimWoo-bin,LeeHyun-woo,KimYeong-cheol,JoYoon-h...</td>\n",
       "      <td>116</td>\n",
       "      <td>SouthKorea</td>\n",
       "      <td>LotteEntertainment</td>\n",
       "    </tr>\n",
       "    <tr>\n",
       "      <th>29378</th>\n",
       "      <td>And There Were 4</td>\n",
       "      <td>2018</td>\n",
       "      <td>4.6</td>\n",
       "      <td>Action,Drama,Fantasy</td>\n",
       "      <td>ShadnerIfrene,NathanielRyanJ,MysonneLinen,BekM...</td>\n",
       "      <td>83</td>\n",
       "      <td>UnitedStatesofAmerica</td>\n",
       "      <td>XXX</td>\n",
       "    </tr>\n",
       "    <tr>\n",
       "      <th>29379</th>\n",
       "      <td>From Time to Time</td>\n",
       "      <td>2009</td>\n",
       "      <td>6.7</td>\n",
       "      <td>Adventure,Fantasy,Drama</td>\n",
       "      <td>MaggieSmith,DominicWest,TimothySpall,Alexander...</td>\n",
       "      <td>95</td>\n",
       "      <td>UnitedKingdom</td>\n",
       "      <td>LionheadStudios,EalingStudios</td>\n",
       "    </tr>\n",
       "    <tr>\n",
       "      <th>29380</th>\n",
       "      <td>Sanshiro Sugata</td>\n",
       "      <td>1943</td>\n",
       "      <td>6.7</td>\n",
       "      <td>Drama</td>\n",
       "      <td>DenjirôÔkôchi,SusumuFujita,YukikoTodoroki,Taka...</td>\n",
       "      <td>80</td>\n",
       "      <td>Japan</td>\n",
       "      <td>TohoFilm(Eiga)Co.Ltd.,TohoCompany,Ltd.</td>\n",
       "    </tr>\n",
       "  </tbody>\n",
       "</table>\n",
       "<p>29381 rows × 8 columns</p>\n",
       "</div>"
      ],
      "text/plain": [
       "                    Movie_Name  Release_Year  IMDB_Score  \\\n",
       "0          Operation Mincemeat          2022         6.9   \n",
       "1                       Memory          2022         5.6   \n",
       "2                 Stanleyville          2021         5.6   \n",
       "3                  Scarborough          2021         7.1   \n",
       "4      It's Hard But It's Fair          2022         5.6   \n",
       "...                        ...           ...         ...   \n",
       "29376             The Shooting          1966         6.5   \n",
       "29377          The Con Artists          2014         6.5   \n",
       "29378         And There Were 4          2018         4.6   \n",
       "29379        From Time to Time          2009         6.7   \n",
       "29380          Sanshiro Sugata          1943         6.7   \n",
       "\n",
       "                              Genres  \\\n",
       "0                  Drama,History,War   \n",
       "1      Crime,Thriller,Action,Mystery   \n",
       "2                             Comedy   \n",
       "3                              Drama   \n",
       "4                              Drama   \n",
       "...                              ...   \n",
       "29376                        Western   \n",
       "29377          Thriller,Action,Crime   \n",
       "29378           Action,Drama,Fantasy   \n",
       "29379        Adventure,Fantasy,Drama   \n",
       "29380                          Drama   \n",
       "\n",
       "                                                   Casts  Duration  \\\n",
       "0      MarkBonnar,HattieMorahan,JohnnyFlynn,MatthewMa...       128   \n",
       "1      LiamNeeson,TajAtwal,MonicaBellucci,HaroldTorre...       114   \n",
       "2      JulianRichings,GeorgeTchortov,ChristianSerriti...        88   \n",
       "3      EssenceFox,ElliePosadas,LiamDiaz,CherishViolet...       136   \n",
       "4      Osaze'Agod'Niamke,Derrick'Deuce'Keys,Moonrise'...        74   \n",
       "...                                                  ...       ...   \n",
       "29376  WarrenOates,WillHutchins,MilliePerkins,JackNic...        78   \n",
       "29377  KimWoo-bin,LeeHyun-woo,KimYeong-cheol,JoYoon-h...       116   \n",
       "29378  ShadnerIfrene,NathanielRyanJ,MysonneLinen,BekM...        83   \n",
       "29379  MaggieSmith,DominicWest,TimothySpall,Alexander...        95   \n",
       "29380  DenjirôÔkôchi,SusumuFujita,YukikoTodoroki,Taka...        80   \n",
       "\n",
       "                     Country  \\\n",
       "0              UnitedKingdom   \n",
       "1      UnitedStatesofAmerica   \n",
       "2                     Canada   \n",
       "3                     Canada   \n",
       "4      UnitedStatesofAmerica   \n",
       "...                      ...   \n",
       "29376  UnitedStatesofAmerica   \n",
       "29377             SouthKorea   \n",
       "29378  UnitedStatesofAmerica   \n",
       "29379          UnitedKingdom   \n",
       "29380                  Japan   \n",
       "\n",
       "                                              Production  \n",
       "0      ArcheryPictures,AFilmLocationCompany,CohenMedi...  \n",
       "1      BlackBearPictures,SavilleProductions,OpenRoadF...  \n",
       "2                                ScythiaFilms,Anthropoid  \n",
       "3                                   CompyFilms,levelFILM  \n",
       "4                    MemphvilleManagementandDistribution  \n",
       "...                                                  ...  \n",
       "29376                 ProteusFilms,SantaClaraProductions  \n",
       "29377                                 LotteEntertainment  \n",
       "29378                                                XXX  \n",
       "29379                      LionheadStudios,EalingStudios  \n",
       "29380             TohoFilm(Eiga)Co.Ltd.,TohoCompany,Ltd.  \n",
       "\n",
       "[29381 rows x 8 columns]"
      ]
     },
     "execution_count": 30,
     "metadata": {},
     "output_type": "execute_result"
    }
   ],
   "source": [
    "himovies_df=pd.read_csv('data\\Clean_df.csv')\n",
    "himovies_df"
   ]
  }
 ],
 "metadata": {
  "interpreter": {
   "hash": "a2fa68691dcced34b3efc8e341ce56991a5c70eb0f55255ff515f2bab771e889"
  },
  "kernelspec": {
   "display_name": "Python 3 (ipykernel)",
   "language": "python",
   "name": "python3"
  },
  "language_info": {
   "codemirror_mode": {
    "name": "ipython",
    "version": 3
   },
   "file_extension": ".py",
   "mimetype": "text/x-python",
   "name": "python",
   "nbconvert_exporter": "python",
   "pygments_lexer": "ipython3",
   "version": "3.9.7"
  }
 },
 "nbformat": 4,
 "nbformat_minor": 5
}
