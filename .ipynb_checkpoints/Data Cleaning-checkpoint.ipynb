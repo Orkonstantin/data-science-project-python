{
 "cells": [
  {
   "cell_type": "markdown",
   "id": "b0deff51",
   "metadata": {},
   "source": [
    "# Preliminary analysis and data optimization"
   ]
  },
  {
   "cell_type": "code",
   "execution_count": 1,
   "id": "d05f0eda",
   "metadata": {},
   "outputs": [],
   "source": [
    "import pandas as pd\n",
    "import numpy as np\n",
    "from sklearn.preprocessing import MultiLabelBinarizer\n",
    "from sklearn.preprocessing import OneHotEncoder\n",
    "\n",
    "import bs4\n",
    "from bs4 import BeautifulSoup\n",
    "import scipy as sc\n",
    "\n",
    "import requests\n",
    "\n",
    "import re"
   ]
  },
  {
   "cell_type": "code",
   "execution_count": 2,
   "id": "351db530",
   "metadata": {},
   "outputs": [
    {
     "data": {
      "text/html": [
       "<div>\n",
       "<style scoped>\n",
       "    .dataframe tbody tr th:only-of-type {\n",
       "        vertical-align: middle;\n",
       "    }\n",
       "\n",
       "    .dataframe tbody tr th {\n",
       "        vertical-align: top;\n",
       "    }\n",
       "\n",
       "    .dataframe thead th {\n",
       "        text-align: right;\n",
       "    }\n",
       "</style>\n",
       "<table border=\"1\" class=\"dataframe\">\n",
       "  <thead>\n",
       "    <tr style=\"text-align: right;\">\n",
       "      <th></th>\n",
       "      <th>movie_name</th>\n",
       "      <th>release_year</th>\n",
       "      <th>imdb_grades</th>\n",
       "      <th>genres</th>\n",
       "      <th>casts</th>\n",
       "      <th>duration in min</th>\n",
       "      <th>country</th>\n",
       "      <th>production</th>\n",
       "    </tr>\n",
       "  </thead>\n",
       "  <tbody>\n",
       "    <tr>\n",
       "      <th>0</th>\n",
       "      <td>Operation Mincemeat</td>\n",
       "      <td>2022-04-01</td>\n",
       "      <td>6.9</td>\n",
       "      <td>Drama,History,War</td>\n",
       "      <td>MarkBonnar,HattieMorahan,JohnnyFlynn,MatthewMa...</td>\n",
       "      <td>128.0</td>\n",
       "      <td>UnitedKingdom,UnitedStatesofAmerica</td>\n",
       "      <td>ArcheryPictures,AFilmLocationCompany,CohenMedi...</td>\n",
       "    </tr>\n",
       "    <tr>\n",
       "      <th>1</th>\n",
       "      <td>Memory</td>\n",
       "      <td>2022-04-28</td>\n",
       "      <td>5.6</td>\n",
       "      <td>Crime,Thriller,Action,Mystery</td>\n",
       "      <td>LiamNeeson,TajAtwal,MonicaBellucci,HaroldTorre...</td>\n",
       "      <td>114.0</td>\n",
       "      <td>UnitedStatesofAmerica</td>\n",
       "      <td>BlackBearPictures,SavilleProductions,OpenRoadF...</td>\n",
       "    </tr>\n",
       "    <tr>\n",
       "      <th>2</th>\n",
       "      <td>Stanleyville</td>\n",
       "      <td>2021-08-15</td>\n",
       "      <td>5.6</td>\n",
       "      <td>Comedy</td>\n",
       "      <td>JulianRichings,GeorgeTchortov,ChristianSerriti...</td>\n",
       "      <td>88.0</td>\n",
       "      <td>Canada</td>\n",
       "      <td>ScythiaFilms,Anthropoid</td>\n",
       "    </tr>\n",
       "    <tr>\n",
       "      <th>3</th>\n",
       "      <td>Scarborough</td>\n",
       "      <td>2021-09-10</td>\n",
       "      <td>7.1</td>\n",
       "      <td>Drama</td>\n",
       "      <td>EssenceFox,ElliePosadas,LiamDiaz,CherishViolet...</td>\n",
       "      <td>136.0</td>\n",
       "      <td>Canada</td>\n",
       "      <td>CompyFilms,levelFILM</td>\n",
       "    </tr>\n",
       "    <tr>\n",
       "      <th>4</th>\n",
       "      <td>Pride Jewel</td>\n",
       "      <td>2022-05-02</td>\n",
       "      <td>NaN</td>\n",
       "      <td>Action,Thriller</td>\n",
       "      <td>JakeVincent,SarkisBakalyan,GeorgeBoudoures,Aya...</td>\n",
       "      <td>96.0</td>\n",
       "      <td>UnitedStatesofAmerica</td>\n",
       "      <td>AppliedArtProductions,PointupFilms</td>\n",
       "    </tr>\n",
       "    <tr>\n",
       "      <th>...</th>\n",
       "      <td>...</td>\n",
       "      <td>...</td>\n",
       "      <td>...</td>\n",
       "      <td>...</td>\n",
       "      <td>...</td>\n",
       "      <td>...</td>\n",
       "      <td>...</td>\n",
       "      <td>...</td>\n",
       "    </tr>\n",
       "    <tr>\n",
       "      <th>34919</th>\n",
       "      <td>The Shooting</td>\n",
       "      <td>1966-06-02</td>\n",
       "      <td>6.5</td>\n",
       "      <td>Western</td>\n",
       "      <td>WarrenOates,WillHutchins,MilliePerkins,JackNic...</td>\n",
       "      <td>78.0</td>\n",
       "      <td>UnitedStatesofAmerica</td>\n",
       "      <td>ProteusFilms,SantaClaraProductions</td>\n",
       "    </tr>\n",
       "    <tr>\n",
       "      <th>34920</th>\n",
       "      <td>The Con Artists</td>\n",
       "      <td>2014-12-24</td>\n",
       "      <td>6.5</td>\n",
       "      <td>Thriller,Action,Crime</td>\n",
       "      <td>KimWoo-bin,LeeHyun-woo,KimYeong-cheol,JoYoon-h...</td>\n",
       "      <td>116.0</td>\n",
       "      <td>SouthKorea</td>\n",
       "      <td>LotteEntertainment</td>\n",
       "    </tr>\n",
       "    <tr>\n",
       "      <th>34921</th>\n",
       "      <td>And There Were 4</td>\n",
       "      <td>2018-05-26</td>\n",
       "      <td>4.6</td>\n",
       "      <td>Action,Drama,Fantasy</td>\n",
       "      <td>ShadnerIfrene,NathanielRyanJ,MysonneLinen,BekM...</td>\n",
       "      <td>83.0</td>\n",
       "      <td>NaN</td>\n",
       "      <td>NaN</td>\n",
       "    </tr>\n",
       "    <tr>\n",
       "      <th>34922</th>\n",
       "      <td>From Time to Time</td>\n",
       "      <td>2009-01-01</td>\n",
       "      <td>6.7</td>\n",
       "      <td>Adventure,Fantasy,Drama</td>\n",
       "      <td>MaggieSmith,DominicWest,TimothySpall,Alexander...</td>\n",
       "      <td>95.0</td>\n",
       "      <td>UnitedKingdom</td>\n",
       "      <td>LionheadStudios,EalingStudios</td>\n",
       "    </tr>\n",
       "    <tr>\n",
       "      <th>34923</th>\n",
       "      <td>Sanshiro Sugata</td>\n",
       "      <td>1943-03-25</td>\n",
       "      <td>6.7</td>\n",
       "      <td>Drama</td>\n",
       "      <td>DenjirôÔkôchi,SusumuFujita,YukikoTodoroki,Taka...</td>\n",
       "      <td>80.0</td>\n",
       "      <td>Japan</td>\n",
       "      <td>TohoFilm(Eiga)Co.Ltd.,TohoCompany,Ltd.</td>\n",
       "    </tr>\n",
       "  </tbody>\n",
       "</table>\n",
       "<p>34924 rows × 8 columns</p>\n",
       "</div>"
      ],
      "text/plain": [
       "                movie_name release_year  imdb_grades  \\\n",
       "0      Operation Mincemeat   2022-04-01          6.9   \n",
       "1                   Memory   2022-04-28          5.6   \n",
       "2             Stanleyville   2021-08-15          5.6   \n",
       "3              Scarborough   2021-09-10          7.1   \n",
       "4              Pride Jewel   2022-05-02          NaN   \n",
       "...                    ...          ...          ...   \n",
       "34919         The Shooting   1966-06-02          6.5   \n",
       "34920      The Con Artists   2014-12-24          6.5   \n",
       "34921     And There Were 4   2018-05-26          4.6   \n",
       "34922    From Time to Time   2009-01-01          6.7   \n",
       "34923      Sanshiro Sugata   1943-03-25          6.7   \n",
       "\n",
       "                              genres  \\\n",
       "0                  Drama,History,War   \n",
       "1      Crime,Thriller,Action,Mystery   \n",
       "2                             Comedy   \n",
       "3                              Drama   \n",
       "4                    Action,Thriller   \n",
       "...                              ...   \n",
       "34919                        Western   \n",
       "34920          Thriller,Action,Crime   \n",
       "34921           Action,Drama,Fantasy   \n",
       "34922        Adventure,Fantasy,Drama   \n",
       "34923                          Drama   \n",
       "\n",
       "                                                   casts  duration in min  \\\n",
       "0      MarkBonnar,HattieMorahan,JohnnyFlynn,MatthewMa...            128.0   \n",
       "1      LiamNeeson,TajAtwal,MonicaBellucci,HaroldTorre...            114.0   \n",
       "2      JulianRichings,GeorgeTchortov,ChristianSerriti...             88.0   \n",
       "3      EssenceFox,ElliePosadas,LiamDiaz,CherishViolet...            136.0   \n",
       "4      JakeVincent,SarkisBakalyan,GeorgeBoudoures,Aya...             96.0   \n",
       "...                                                  ...              ...   \n",
       "34919  WarrenOates,WillHutchins,MilliePerkins,JackNic...             78.0   \n",
       "34920  KimWoo-bin,LeeHyun-woo,KimYeong-cheol,JoYoon-h...            116.0   \n",
       "34921  ShadnerIfrene,NathanielRyanJ,MysonneLinen,BekM...             83.0   \n",
       "34922  MaggieSmith,DominicWest,TimothySpall,Alexander...             95.0   \n",
       "34923  DenjirôÔkôchi,SusumuFujita,YukikoTodoroki,Taka...             80.0   \n",
       "\n",
       "                                   country  \\\n",
       "0      UnitedKingdom,UnitedStatesofAmerica   \n",
       "1                    UnitedStatesofAmerica   \n",
       "2                                   Canada   \n",
       "3                                   Canada   \n",
       "4                    UnitedStatesofAmerica   \n",
       "...                                    ...   \n",
       "34919                UnitedStatesofAmerica   \n",
       "34920                           SouthKorea   \n",
       "34921                                  NaN   \n",
       "34922                        UnitedKingdom   \n",
       "34923                                Japan   \n",
       "\n",
       "                                              production  \n",
       "0      ArcheryPictures,AFilmLocationCompany,CohenMedi...  \n",
       "1      BlackBearPictures,SavilleProductions,OpenRoadF...  \n",
       "2                                ScythiaFilms,Anthropoid  \n",
       "3                                   CompyFilms,levelFILM  \n",
       "4                     AppliedArtProductions,PointupFilms  \n",
       "...                                                  ...  \n",
       "34919                 ProteusFilms,SantaClaraProductions  \n",
       "34920                                 LotteEntertainment  \n",
       "34921                                                NaN  \n",
       "34922                      LionheadStudios,EalingStudios  \n",
       "34923             TohoFilm(Eiga)Co.Ltd.,TohoCompany,Ltd.  \n",
       "\n",
       "[34924 rows x 8 columns]"
      ]
     },
     "execution_count": 2,
     "metadata": {},
     "output_type": "execute_result"
    }
   ],
   "source": [
    "himovies_df=pd.read_csv('data\\ALL_RAW_DATA.csv')\n",
    "himovies_df"
   ]
  },
  {
   "cell_type": "markdown",
   "id": "80ab5177",
   "metadata": {},
   "source": [
    "## Handling  duplicate data"
   ]
  },
  {
   "cell_type": "code",
   "execution_count": 3,
   "id": "fe6393e9",
   "metadata": {},
   "outputs": [
    {
     "data": {
      "text/plain": [
       "1791"
      ]
     },
     "execution_count": 3,
     "metadata": {},
     "output_type": "execute_result"
    }
   ],
   "source": [
    "himovies_df.duplicated(subset='movie_name').sum()"
   ]
  },
  {
   "cell_type": "code",
   "execution_count": 4,
   "id": "7bda63f0",
   "metadata": {},
   "outputs": [
    {
     "data": {
      "text/html": [
       "<div>\n",
       "<style scoped>\n",
       "    .dataframe tbody tr th:only-of-type {\n",
       "        vertical-align: middle;\n",
       "    }\n",
       "\n",
       "    .dataframe tbody tr th {\n",
       "        vertical-align: top;\n",
       "    }\n",
       "\n",
       "    .dataframe thead th {\n",
       "        text-align: right;\n",
       "    }\n",
       "</style>\n",
       "<table border=\"1\" class=\"dataframe\">\n",
       "  <thead>\n",
       "    <tr style=\"text-align: right;\">\n",
       "      <th></th>\n",
       "      <th>movie_name</th>\n",
       "      <th>release_year</th>\n",
       "      <th>imdb_grades</th>\n",
       "      <th>genres</th>\n",
       "      <th>casts</th>\n",
       "      <th>duration in min</th>\n",
       "      <th>country</th>\n",
       "      <th>production</th>\n",
       "    </tr>\n",
       "  </thead>\n",
       "  <tbody>\n",
       "    <tr>\n",
       "      <th>0</th>\n",
       "      <td>Operation Mincemeat</td>\n",
       "      <td>2022-04-01</td>\n",
       "      <td>6.9</td>\n",
       "      <td>Drama,History,War</td>\n",
       "      <td>MarkBonnar,HattieMorahan,JohnnyFlynn,MatthewMa...</td>\n",
       "      <td>128.0</td>\n",
       "      <td>UnitedKingdom,UnitedStatesofAmerica</td>\n",
       "      <td>ArcheryPictures,AFilmLocationCompany,CohenMedi...</td>\n",
       "    </tr>\n",
       "    <tr>\n",
       "      <th>1</th>\n",
       "      <td>Memory</td>\n",
       "      <td>2022-04-28</td>\n",
       "      <td>5.6</td>\n",
       "      <td>Crime,Thriller,Action,Mystery</td>\n",
       "      <td>LiamNeeson,TajAtwal,MonicaBellucci,HaroldTorre...</td>\n",
       "      <td>114.0</td>\n",
       "      <td>UnitedStatesofAmerica</td>\n",
       "      <td>BlackBearPictures,SavilleProductions,OpenRoadF...</td>\n",
       "    </tr>\n",
       "    <tr>\n",
       "      <th>2</th>\n",
       "      <td>Stanleyville</td>\n",
       "      <td>2021-08-15</td>\n",
       "      <td>5.6</td>\n",
       "      <td>Comedy</td>\n",
       "      <td>JulianRichings,GeorgeTchortov,ChristianSerriti...</td>\n",
       "      <td>88.0</td>\n",
       "      <td>Canada</td>\n",
       "      <td>ScythiaFilms,Anthropoid</td>\n",
       "    </tr>\n",
       "    <tr>\n",
       "      <th>3</th>\n",
       "      <td>Scarborough</td>\n",
       "      <td>2021-09-10</td>\n",
       "      <td>7.1</td>\n",
       "      <td>Drama</td>\n",
       "      <td>EssenceFox,ElliePosadas,LiamDiaz,CherishViolet...</td>\n",
       "      <td>136.0</td>\n",
       "      <td>Canada</td>\n",
       "      <td>CompyFilms,levelFILM</td>\n",
       "    </tr>\n",
       "    <tr>\n",
       "      <th>4</th>\n",
       "      <td>Pride Jewel</td>\n",
       "      <td>2022-05-02</td>\n",
       "      <td>NaN</td>\n",
       "      <td>Action,Thriller</td>\n",
       "      <td>JakeVincent,SarkisBakalyan,GeorgeBoudoures,Aya...</td>\n",
       "      <td>96.0</td>\n",
       "      <td>UnitedStatesofAmerica</td>\n",
       "      <td>AppliedArtProductions,PointupFilms</td>\n",
       "    </tr>\n",
       "    <tr>\n",
       "      <th>...</th>\n",
       "      <td>...</td>\n",
       "      <td>...</td>\n",
       "      <td>...</td>\n",
       "      <td>...</td>\n",
       "      <td>...</td>\n",
       "      <td>...</td>\n",
       "      <td>...</td>\n",
       "      <td>...</td>\n",
       "    </tr>\n",
       "    <tr>\n",
       "      <th>34919</th>\n",
       "      <td>The Shooting</td>\n",
       "      <td>1966-06-02</td>\n",
       "      <td>6.5</td>\n",
       "      <td>Western</td>\n",
       "      <td>WarrenOates,WillHutchins,MilliePerkins,JackNic...</td>\n",
       "      <td>78.0</td>\n",
       "      <td>UnitedStatesofAmerica</td>\n",
       "      <td>ProteusFilms,SantaClaraProductions</td>\n",
       "    </tr>\n",
       "    <tr>\n",
       "      <th>34920</th>\n",
       "      <td>The Con Artists</td>\n",
       "      <td>2014-12-24</td>\n",
       "      <td>6.5</td>\n",
       "      <td>Thriller,Action,Crime</td>\n",
       "      <td>KimWoo-bin,LeeHyun-woo,KimYeong-cheol,JoYoon-h...</td>\n",
       "      <td>116.0</td>\n",
       "      <td>SouthKorea</td>\n",
       "      <td>LotteEntertainment</td>\n",
       "    </tr>\n",
       "    <tr>\n",
       "      <th>34921</th>\n",
       "      <td>And There Were 4</td>\n",
       "      <td>2018-05-26</td>\n",
       "      <td>4.6</td>\n",
       "      <td>Action,Drama,Fantasy</td>\n",
       "      <td>ShadnerIfrene,NathanielRyanJ,MysonneLinen,BekM...</td>\n",
       "      <td>83.0</td>\n",
       "      <td>NaN</td>\n",
       "      <td>NaN</td>\n",
       "    </tr>\n",
       "    <tr>\n",
       "      <th>34922</th>\n",
       "      <td>From Time to Time</td>\n",
       "      <td>2009-01-01</td>\n",
       "      <td>6.7</td>\n",
       "      <td>Adventure,Fantasy,Drama</td>\n",
       "      <td>MaggieSmith,DominicWest,TimothySpall,Alexander...</td>\n",
       "      <td>95.0</td>\n",
       "      <td>UnitedKingdom</td>\n",
       "      <td>LionheadStudios,EalingStudios</td>\n",
       "    </tr>\n",
       "    <tr>\n",
       "      <th>34923</th>\n",
       "      <td>Sanshiro Sugata</td>\n",
       "      <td>1943-03-25</td>\n",
       "      <td>6.7</td>\n",
       "      <td>Drama</td>\n",
       "      <td>DenjirôÔkôchi,SusumuFujita,YukikoTodoroki,Taka...</td>\n",
       "      <td>80.0</td>\n",
       "      <td>Japan</td>\n",
       "      <td>TohoFilm(Eiga)Co.Ltd.,TohoCompany,Ltd.</td>\n",
       "    </tr>\n",
       "  </tbody>\n",
       "</table>\n",
       "<p>33133 rows × 8 columns</p>\n",
       "</div>"
      ],
      "text/plain": [
       "                movie_name release_year  imdb_grades  \\\n",
       "0      Operation Mincemeat   2022-04-01          6.9   \n",
       "1                   Memory   2022-04-28          5.6   \n",
       "2             Stanleyville   2021-08-15          5.6   \n",
       "3              Scarborough   2021-09-10          7.1   \n",
       "4              Pride Jewel   2022-05-02          NaN   \n",
       "...                    ...          ...          ...   \n",
       "34919         The Shooting   1966-06-02          6.5   \n",
       "34920      The Con Artists   2014-12-24          6.5   \n",
       "34921     And There Were 4   2018-05-26          4.6   \n",
       "34922    From Time to Time   2009-01-01          6.7   \n",
       "34923      Sanshiro Sugata   1943-03-25          6.7   \n",
       "\n",
       "                              genres  \\\n",
       "0                  Drama,History,War   \n",
       "1      Crime,Thriller,Action,Mystery   \n",
       "2                             Comedy   \n",
       "3                              Drama   \n",
       "4                    Action,Thriller   \n",
       "...                              ...   \n",
       "34919                        Western   \n",
       "34920          Thriller,Action,Crime   \n",
       "34921           Action,Drama,Fantasy   \n",
       "34922        Adventure,Fantasy,Drama   \n",
       "34923                          Drama   \n",
       "\n",
       "                                                   casts  duration in min  \\\n",
       "0      MarkBonnar,HattieMorahan,JohnnyFlynn,MatthewMa...            128.0   \n",
       "1      LiamNeeson,TajAtwal,MonicaBellucci,HaroldTorre...            114.0   \n",
       "2      JulianRichings,GeorgeTchortov,ChristianSerriti...             88.0   \n",
       "3      EssenceFox,ElliePosadas,LiamDiaz,CherishViolet...            136.0   \n",
       "4      JakeVincent,SarkisBakalyan,GeorgeBoudoures,Aya...             96.0   \n",
       "...                                                  ...              ...   \n",
       "34919  WarrenOates,WillHutchins,MilliePerkins,JackNic...             78.0   \n",
       "34920  KimWoo-bin,LeeHyun-woo,KimYeong-cheol,JoYoon-h...            116.0   \n",
       "34921  ShadnerIfrene,NathanielRyanJ,MysonneLinen,BekM...             83.0   \n",
       "34922  MaggieSmith,DominicWest,TimothySpall,Alexander...             95.0   \n",
       "34923  DenjirôÔkôchi,SusumuFujita,YukikoTodoroki,Taka...             80.0   \n",
       "\n",
       "                                   country  \\\n",
       "0      UnitedKingdom,UnitedStatesofAmerica   \n",
       "1                    UnitedStatesofAmerica   \n",
       "2                                   Canada   \n",
       "3                                   Canada   \n",
       "4                    UnitedStatesofAmerica   \n",
       "...                                    ...   \n",
       "34919                UnitedStatesofAmerica   \n",
       "34920                           SouthKorea   \n",
       "34921                                  NaN   \n",
       "34922                        UnitedKingdom   \n",
       "34923                                Japan   \n",
       "\n",
       "                                              production  \n",
       "0      ArcheryPictures,AFilmLocationCompany,CohenMedi...  \n",
       "1      BlackBearPictures,SavilleProductions,OpenRoadF...  \n",
       "2                                ScythiaFilms,Anthropoid  \n",
       "3                                   CompyFilms,levelFILM  \n",
       "4                     AppliedArtProductions,PointupFilms  \n",
       "...                                                  ...  \n",
       "34919                 ProteusFilms,SantaClaraProductions  \n",
       "34920                                 LotteEntertainment  \n",
       "34921                                                NaN  \n",
       "34922                      LionheadStudios,EalingStudios  \n",
       "34923             TohoFilm(Eiga)Co.Ltd.,TohoCompany,Ltd.  \n",
       "\n",
       "[33133 rows x 8 columns]"
      ]
     },
     "execution_count": 4,
     "metadata": {},
     "output_type": "execute_result"
    }
   ],
   "source": [
    "himovies_df=himovies_df.drop_duplicates(subset='movie_name')\n",
    "himovies_df"
   ]
  },
  {
   "cell_type": "markdown",
   "id": "74fcf785",
   "metadata": {},
   "source": [
    "## Handling missing data:"
   ]
  },
  {
   "cell_type": "code",
   "execution_count": 5,
   "id": "d8af9e06",
   "metadata": {},
   "outputs": [
    {
     "data": {
      "text/plain": [
       "(33133, 8)"
      ]
     },
     "execution_count": 5,
     "metadata": {},
     "output_type": "execute_result"
    }
   ],
   "source": [
    "himovies_df.shape"
   ]
  },
  {
   "cell_type": "code",
   "execution_count": 6,
   "id": "677ed9ca",
   "metadata": {},
   "outputs": [
    {
     "data": {
      "text/plain": [
       "movie_name            0\n",
       "release_year          1\n",
       "imdb_grades         621\n",
       "genres             1528\n",
       "casts              1780\n",
       "duration in min    1764\n",
       "country            5055\n",
       "production         6858\n",
       "dtype: int64"
      ]
     },
     "execution_count": 6,
     "metadata": {},
     "output_type": "execute_result"
    }
   ],
   "source": [
    "himovies_df.isnull().sum()"
   ]
  },
  {
   "cell_type": "code",
   "execution_count": 7,
   "id": "278c46f9",
   "metadata": {},
   "outputs": [],
   "source": [
    "himovies_df=himovies_df.dropna(axis=0,thresh=len(himovies_df.columns)-2)"
   ]
  },
  {
   "cell_type": "code",
   "execution_count": 8,
   "id": "1f679951",
   "metadata": {},
   "outputs": [],
   "source": [
    "himovies_df=himovies_df.reset_index(level=None, drop=True, inplace=False, col_level=0, col_fill='')"
   ]
  },
  {
   "cell_type": "code",
   "execution_count": 9,
   "id": "e719b9d0",
   "metadata": {},
   "outputs": [
    {
     "data": {
      "text/plain": [
       "90.0     1981\n",
       "95.0      913\n",
       "100.0     911\n",
       "85.0      898\n",
       "84.0      823\n",
       "         ... \n",
       "284.0       1\n",
       "217.0       1\n",
       "540.0       1\n",
       "200.0       1\n",
       "235.0       1\n",
       "Name: duration in min, Length: 256, dtype: int64"
      ]
     },
     "execution_count": 9,
     "metadata": {},
     "output_type": "execute_result"
    }
   ],
   "source": [
    "himovies_df['duration in min'].value_counts()"
   ]
  },
  {
   "cell_type": "code",
   "execution_count": 10,
   "id": "2ce4f76f",
   "metadata": {},
   "outputs": [
    {
     "data": {
      "text/plain": [
       "Drama                                     2861\n",
       "Comedy                                    1950\n",
       "Documentary                               1305\n",
       "Horror                                    1235\n",
       "Comedy,Drama                               687\n",
       "                                          ... \n",
       "Drama,History,Documentary                    1\n",
       "Drama,Thriller,Documentary                   1\n",
       "Drama,Romance,History,Comedy                 1\n",
       "ScienceFiction,Adventure,Comedy,Horror       1\n",
       "Drama,Family,Fantasy,ScienceFiction          1\n",
       "Name: genres, Length: 4195, dtype: int64"
      ]
     },
     "execution_count": 10,
     "metadata": {},
     "output_type": "execute_result"
    }
   ],
   "source": [
    "himovies_df['genres'].value_counts()"
   ]
  },
  {
   "cell_type": "code",
   "execution_count": 11,
   "id": "7c329984",
   "metadata": {},
   "outputs": [],
   "source": [
    "for col in himovies_df.columns:\n",
    "    if col == \"imdb_grades\":\n",
    "        continue\n",
    "    elif col == 'casts' or col =='production':\n",
    "        himovies_df[col].fillna('XXX',inplace= True)\n",
    "    else:\n",
    "        himovies_df[col].fillna(himovies_df[col].mode()[0],inplace= True)"
   ]
  },
  {
   "cell_type": "code",
   "execution_count": 12,
   "id": "e46f382b",
   "metadata": {},
   "outputs": [
    {
     "data": {
      "text/plain": [
       "movie_name           0\n",
       "release_year         0\n",
       "imdb_grades        309\n",
       "genres               0\n",
       "casts                0\n",
       "duration in min      0\n",
       "country              0\n",
       "production           0\n",
       "dtype: int64"
      ]
     },
     "execution_count": 12,
     "metadata": {},
     "output_type": "execute_result"
    }
   ],
   "source": [
    "himovies_df.isnull().sum()"
   ]
  },
  {
   "cell_type": "code",
   "execution_count": 13,
   "id": "962ab8f8",
   "metadata": {},
   "outputs": [],
   "source": [
    "himovies_df['duration in min'] = himovies_df['duration in min'].astype(int)"
   ]
  },
  {
   "cell_type": "code",
   "execution_count": 14,
   "id": "1fa01c32",
   "metadata": {},
   "outputs": [],
   "source": [
    "from datetime import datetime\n",
    "\n",
    "for idx,row in enumerate (himovies_df[\"release_year\"]):\n",
    "    if row == '0000-00-00':\n",
    "        himovies_df.drop([idx], axis=0, inplace=True)\n",
    "        continue\n",
    "#     if type(row) == float:\n",
    "#         row=int(row)\n",
    "#         continue\n",
    "        \n",
    "    datem = datetime.strptime(row, '%Y-%m-%d')\n",
    "    row=datem.year\n",
    "    #print(row)\n",
    "    #print(type(row))\n",
    "    himovies_df['release_year'].at[idx] = row\n",
    "\n",
    "# date=himovies_df[\"release_year\"][0]\n",
    "# datem = datetime.strptime(date, '%Y-%m-%d')\n",
    "# print(datem.year) \n",
    "# print(type(datem.year))"
   ]
  },
  {
   "cell_type": "markdown",
   "id": "69620b9a",
   "metadata": {},
   "source": [
    "### We are currently leaving the rows containing nan in the \"imdb_grades\" column, later on we will use them for machine testing / prediction."
   ]
  },
  {
   "cell_type": "markdown",
   "id": "e97c3297",
   "metadata": {},
   "source": [
    "## Handling outliers data"
   ]
  },
  {
   "cell_type": "code",
   "execution_count": 15,
   "id": "a63087c8",
   "metadata": {},
   "outputs": [],
   "source": [
    "import matplotlib as mpl\n",
    "from matplotlib import pyplot as plt\n",
    "%matplotlib inline\n",
    "import warnings\n",
    "#warnings.filterwarnings(\"ignore\")"
   ]
  },
  {
   "cell_type": "code",
   "execution_count": 16,
   "id": "39701a6e",
   "metadata": {},
   "outputs": [
    {
     "data": {
      "text/plain": [
       "count    30542.000000\n",
       "mean         5.882601\n",
       "std          1.300330\n",
       "min          1.100000\n",
       "25%          5.100000\n",
       "50%          6.100000\n",
       "75%          6.800000\n",
       "max          9.300000\n",
       "Name: imdb_grades, dtype: float64"
      ]
     },
     "execution_count": 16,
     "metadata": {},
     "output_type": "execute_result"
    }
   ],
   "source": [
    "himovies_df['imdb_grades'].describe()"
   ]
  },
  {
   "cell_type": "code",
   "execution_count": 17,
   "id": "5c5668f0",
   "metadata": {},
   "outputs": [
    {
     "data": {
      "image/png": "[encoded data removed]",
      "text/plain": [
       "<Figure size 432x288 with 1 Axes>"
      ]
     },
     "metadata": {
      "needs_background": "light"
     },
     "output_type": "display_data"
    }
   ],
   "source": [
    "plt.hist(himovies_df.imdb_grades, bins=20)\n",
    "plt.xlabel=(\"imdb_grades\")\n",
    "plt.ylabel=(\"Frequency\")"
   ]
  },
  {
   "cell_type": "markdown",
   "id": "dd99f0fe",
   "metadata": {},
   "source": [
    "### We can see that the rating is in the correct range between 1 and 10 so there are no exceptions in this column."
   ]
  },
  {
   "cell_type": "code",
   "execution_count": 18,
   "id": "6a8b35c6",
   "metadata": {},
   "outputs": [
    {
     "data": {
      "text/plain": [
       "Text(0, 0.5, 'Frequency')"
      ]
     },
     "execution_count": 18,
     "metadata": {},
     "output_type": "execute_result"
    },
    {
     "data": {
      "image/png": "[encoded data removed]",
      "text/plain": [
       "<Figure size 1800x360 with 2 Axes>"
      ]
     },
     "metadata": {
      "needs_background": "light"
     },
     "output_type": "display_data"
    }
   ],
   "source": [
    "fig = plt.figure(figsize=(25, 5))\n",
    "fig1 = fig.add_subplot(1,3,1)\n",
    "fig2=fig.add_subplot(1,3,2)\n",
    "\n",
    "fig1.hist(himovies_df['duration in min'],bins=80)\n",
    "fig1.set_title('Outlires in duration')\n",
    "fig1.set_xlabel(\"duration in min\")\n",
    "fig1.set_ylabel(\"Frequency\")\n",
    "\n",
    "x=[i for i in himovies_df['duration in min'].index]\n",
    "\n",
    "fig2.scatter(himovies_df['duration in min'],x)\n",
    "fig2.set_title('Outlires in duration')\n",
    "fig2.set_xlabel(\"duration in min\")\n",
    "fig2.set_ylabel(\"Frequency\")\n"
   ]
  },
  {
   "cell_type": "code",
   "execution_count": 19,
   "id": "6935b6c7",
   "metadata": {},
   "outputs": [
    {
     "data": {
      "text/plain": [
       "count    30851.000000\n",
       "mean        97.917863\n",
       "std         23.592095\n",
       "min          1.000000\n",
       "25%         87.000000\n",
       "50%         95.000000\n",
       "75%        108.000000\n",
       "max        811.000000\n",
       "Name: duration in min, dtype: float64"
      ]
     },
     "execution_count": 19,
     "metadata": {},
     "output_type": "execute_result"
    }
   ],
   "source": [
    "himovies_df['duration in min'].describe()"
   ]
  },
  {
   "cell_type": "markdown",
   "id": "af3a650a",
   "metadata": {},
   "source": [
    "### In the histograma graph we can't see clearly the outliers. However, in the scatter plot graph and the describe function we can see that there are movies with very short duration like (1 min) in one side, and on the other hand there are movies with very long duration such as (811 min) which indicates that there are a outliers."
   ]
  },
  {
   "cell_type": "code",
   "execution_count": 20,
   "id": "422f9d67",
   "metadata": {},
   "outputs": [
    {
     "data": {
      "text/plain": [
       "170"
      ]
     },
     "execution_count": 20,
     "metadata": {},
     "output_type": "execute_result"
    }
   ],
   "source": [
    "sum(himovies_df['duration in min']>=180)"
   ]
  },
  {
   "cell_type": "code",
   "execution_count": 21,
   "id": "3aaf3cc7",
   "metadata": {},
   "outputs": [
    {
     "data": {
      "text/plain": [
       "1028"
      ]
     },
     "execution_count": 21,
     "metadata": {},
     "output_type": "execute_result"
    }
   ],
   "source": [
    "sum(himovies_df['duration in min']<=60)"
   ]
  },
  {
   "cell_type": "code",
   "execution_count": 22,
   "id": "a2cccc27",
   "metadata": {},
   "outputs": [],
   "source": [
    "himovies_df=himovies_df[himovies_df['duration in min']<=180]"
   ]
  },
  {
   "cell_type": "code",
   "execution_count": 23,
   "id": "31eb4efc",
   "metadata": {},
   "outputs": [],
   "source": [
    "himovies_df=himovies_df[himovies_df['duration in min']>=60]"
   ]
  },
  {
   "cell_type": "code",
   "execution_count": 24,
   "id": "f24b18ec",
   "metadata": {},
   "outputs": [
    {
     "data": {
      "text/plain": [
       "count    29787.000000\n",
       "mean        99.224897\n",
       "std         17.727617\n",
       "min         60.000000\n",
       "25%         88.000000\n",
       "50%         95.000000\n",
       "75%        108.000000\n",
       "max        180.000000\n",
       "Name: duration in min, dtype: float64"
      ]
     },
     "execution_count": 24,
     "metadata": {},
     "output_type": "execute_result"
    }
   ],
   "source": [
    "himovies_df['duration in min'].describe()"
   ]
  },
  {
   "cell_type": "markdown",
   "id": "c897d96b",
   "metadata": {},
   "source": [
    "### We chose a standard length of movies that is between one to three hours, after an online check that indicate this information. And so we filtered out the outliers movies."
   ]
  },
  {
   "cell_type": "code",
   "execution_count": 25,
   "id": "50470a23",
   "metadata": {},
   "outputs": [
    {
     "data": {
      "text/plain": [
       "Text(0, 0.5, 'Frequency')"
      ]
     },
     "execution_count": 25,
     "metadata": {},
     "output_type": "execute_result"
    },
    {
     "data": {
      "image/png": "[encoded data removed]",
      "text/plain": [
       "<Figure size 1800x360 with 2 Axes>"
      ]
     },
     "metadata": {
      "needs_background": "light"
     },
     "output_type": "display_data"
    }
   ],
   "source": [
    "fig = plt.figure(figsize=(25, 5))\n",
    "fig1 = fig.add_subplot(1,3,1)\n",
    "fig2=fig.add_subplot(1,3,2)\n",
    "\n",
    "fig1.hist(himovies_df['duration in min'],bins=80)\n",
    "fig1.set_title('Outlires in duration')\n",
    "fig1.set_xlabel(\"duration in min\")\n",
    "fig1.set_ylabel(\"Frequency\")\n",
    "\n",
    "x=[i for i in himovies_df['duration in min'].index]\n",
    "\n",
    "fig2.scatter(himovies_df['duration in min'],x)\n",
    "fig2.set_title('Outlires in duration')\n",
    "fig2.set_xlabel(\"duration in min\")\n",
    "fig2.set_ylabel(\"Frequency\")\n"
   ]
  },
  {
   "cell_type": "markdown",
   "id": "2f4db418",
   "metadata": {},
   "source": [
    "## We saw that there are films with details of main and secondary countries and we decided to take the main. "
   ]
  },
  {
   "cell_type": "code",
   "execution_count": 26,
   "id": "de17ad6a",
   "metadata": {},
   "outputs": [],
   "source": [
    "for idx,row in enumerate (himovies_df['country']):\n",
    "    \n",
    "    pattern = \"\\w+\"\n",
    "    \n",
    "    x = re.search(pattern,row)[0]\n",
    "\n",
    "    himovies_df['country'].at[idx]=x"
   ]
  },
  {
   "cell_type": "code",
   "execution_count": 27,
   "id": "1a067fd3",
   "metadata": {},
   "outputs": [],
   "source": [
    "country_filter=himovies_df['country'].value_counts().loc[lambda x: x<2].to_frame()\n",
    "l=country_filter.T.columns\n",
    "for i in l:\n",
    "    idx=himovies_df[himovies_df['country']==i].index[0]\n",
    "    himovies_df.drop([idx], axis=0, inplace=True)"
   ]
  },
  {
   "cell_type": "code",
   "execution_count": 28,
   "id": "04422641",
   "metadata": {},
   "outputs": [],
   "source": [
    "himovies_df=himovies_df.reset_index(level=None, drop=True, inplace=False, col_level=0, col_fill='')"
   ]
  },
  {
   "cell_type": "markdown",
   "id": "56dccca9",
   "metadata": {},
   "source": [
    "## Now we will remove from the data frame the films that contain NaN in the column of the IMDB grade, we will keep them aside in another data frame and later we will make a prediction on them to check the quality of the prediction"
   ]
  },
  {
   "cell_type": "code",
   "execution_count": 29,
   "id": "5ef2066b",
   "metadata": {},
   "outputs": [],
   "source": [
    "movies_to_predict=himovies_df[himovies_df['imdb_grades'].isna()]"
   ]
  },
  {
   "cell_type": "code",
   "execution_count": 30,
   "id": "bd6fa80c",
   "metadata": {},
   "outputs": [],
   "source": [
    "himovies_df=himovies_df.dropna(axis=0,subset=['imdb_grades'])"
   ]
  },
  {
   "cell_type": "code",
   "execution_count": 31,
   "id": "fd018f43",
   "metadata": {},
   "outputs": [],
   "source": [
    "movies_to_predict.to_csv(r'C:\\Users\\almog\\Downloads\\‏‏תיקיה חדשה (3)\\data science project python\\data\\movies_to_predict.csv', index=False)\n",
    "#movies_to_predict.to_csv(r'C:\\Users\\kon31\\OneDrive\\Desktop\\data science project python - A\\data\\movies_to_predict.csv', index=False)"
   ]
  },
  {
   "cell_type": "code",
   "execution_count": 32,
   "id": "7a8d5890",
   "metadata": {},
   "outputs": [],
   "source": [
    "himovies_df.to_csv(r'C:\\Users\\almog\\Downloads\\‏‏תיקיה חדשה (3)\\data science project python\\data\\Clean_df.csv', index=False)\n",
    "#himovies_df.to_csv(r'C:\\Users\\kon31\\OneDrive\\Desktop\\data science project python - A\\data\\Clean_df.csv', index=False)"
   ]
  }
 ],
 "metadata": {
  "kernelspec": {
   "display_name": "Python 3 (ipykernel)",
   "language": "python",
   "name": "python3"
  },
  "language_info": {
   "codemirror_mode": {
    "name": "ipython",
    "version": 3
   },
   "file_extension": ".py",
   "mimetype": "text/x-python",
   "name": "python",
   "nbconvert_exporter": "python",
   "pygments_lexer": "ipython3",
   "version": "3.9.7"
  }
 },
 "nbformat": 4,
 "nbformat_minor": 5
}
