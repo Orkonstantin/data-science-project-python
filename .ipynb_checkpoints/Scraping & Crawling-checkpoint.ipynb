{
 "cells": [
  {
   "cell_type": "markdown",
   "id": "12f9712a",
   "metadata": {},
   "source": [
    "# Scraping Data"
   ]
  },
  {
   "cell_type": "code",
   "execution_count": 2,
   "id": "284f812b",
   "metadata": {},
   "outputs": [],
   "source": [
    "import pandas as pd\n",
    "import numpy as np\n",
    "import bs4\n",
    "from bs4 import BeautifulSoup\n",
    "import requests"
   ]
  },
  {
   "cell_type": "code",
   "execution_count": null,
   "id": "6ba4e798",
   "metadata": {},
   "outputs": [],
   "source": [
    "original_url = \"https://www5.himovies.to/movie\"\n",
    "response = requests.get(original_url)\n",
    "print(response)\n",
    "soup = BeautifulSoup(response.content, 'html.parser')\n",
    "print(original_url)"
   ]
  },
  {
   "cell_type": "code",
   "execution_count": null,
   "id": "37d7ffed",
   "metadata": {},
   "outputs": [],
   "source": [
    "page_jumps=0\n",
    "a=list()\n",
    "for i in range(1092):\n",
    "    temp_url=original_url\n",
    "    page_jumps+=1\n",
    "    temp_url+=\"?page=\"+str(page_jumps)\n",
    "    print(temp_url)\n",
    "    response = requests.get(temp_url)\n",
    "    soup = BeautifulSoup(response.content, 'html.parser')\n",
    "    links = [a['href'] for a in soup.select('a[href]')]\n",
    "    \n",
    "    for line in links:\n",
    "        if '/movie/' in line:\n",
    "            a.append(line)\n",
    "            \n",
    "links_df = pd.DataFrame({\"names\":a})\n",
    "links_df=links_df.drop_duplicates()\n",
    "links_df"
   ]
  },
  {
   "cell_type": "code",
   "execution_count": null,
   "id": "f3798ba0",
   "metadata": {},
   "outputs": [],
   "source": [
    "links_df.to_csv(r'C:\\Users\\almog\\Downloads\\data science project python\\data\\links_df.csv', index=False)"
   ]
  },
  {
   "cell_type": "code",
   "execution_count": null,
   "id": "c3749ef4",
   "metadata": {},
   "outputs": [],
   "source": [
    "links_df=pd.read_csv('data\\links_df.csv')"
   ]
  },
  {
   "cell_type": "code",
   "execution_count": null,
   "id": "475e7c2c",
   "metadata": {},
   "outputs": [],
   "source": [
    "check_df = pd.read_csv('data\\links_df.csv')\n",
    "links_df_updated=check_df.copy()\n",
    "links_df_updated"
   ]
  },
  {
   "cell_type": "code",
   "execution_count": null,
   "id": "62310a99",
   "metadata": {},
   "outputs": [],
   "source": [
    "update_url = \"https://www5.himovies.to\"\n",
    "i=0\n",
    "while(i<links_df.shape[0]):\n",
    "    temp=update_url\n",
    "    links_df_updated.iloc[i,0]=temp+links_df_updated.iloc[i,0]\n",
    "    i+=1\n",
    "links_df_updated"
   ]
  },
  {
   "cell_type": "code",
   "execution_count": null,
   "id": "5f49d9d4",
   "metadata": {},
   "outputs": [],
   "source": [
    "links_df_updated.to_csv(r'C:\\Users\\almog\\Downloads\\data science project python\\data\\links_df_updated.csv', index=False)"
   ]
  },
  {
   "cell_type": "code",
   "execution_count": null,
   "id": "72541cd9",
   "metadata": {},
   "outputs": [],
   "source": [
    "movie_name=list()\n",
    "release_year=list()\n",
    "imdb_grades=list()\n",
    "country=list()\n",
    "genres=list()\n",
    "duration=list()\n",
    "production=list()\n",
    "casts=list()"
   ]
  },
  {
   "cell_type": "code",
   "execution_count": null,
   "id": "0515e58b",
   "metadata": {},
   "outputs": [],
   "source": [
    "links_df_updated.shape[0]"
   ]
  },
  {
   "cell_type": "code",
   "execution_count": null,
   "id": "a9bd3558",
   "metadata": {},
   "outputs": [],
   "source": [
    "i=0\n",
    "while(i<links_df_updated.shape[0]):\n",
    "    response = requests.get(links_df_updated.iloc[i,0])\n",
    "    soup = BeautifulSoup(response.content, 'html.parser')\n",
    "    \n",
    "    ## taking the movie name\n",
    "    soup_h2_href=soup.find_all(\"h2\",attrs={\"href\":\"\"})\n",
    "    for check_row in soup_h2_href:\n",
    "        data=str(check_row.text)\n",
    "        movie_name.append(data)\n",
    "        break\n",
    "    \n",
    "    ### taking the movie grade by imdb:\n",
    "    \n",
    "    soup_button_btn=soup.find_all(\"button\",class_=\"btn btn-sm btn-radius btn-warning btn-imdb\")\n",
    "    for check_row in soup_button_btn:\n",
    "        data=str(check_row.text)\n",
    "        temp_data=data.split(sep='IMDB: ')\n",
    "        clean_data=temp_data[1]\n",
    "        if(clean_data!='N/A'):\n",
    "            clean_data=float(clean_data)\n",
    "            imdb_grades.append(clean_data)\n",
    "        else:\n",
    "            imdb_grades.append(np.nan)\n",
    "    \n",
    "    ### taking the released, genre, casts\n",
    "    \n",
    "    soup_div_xl5=soup.find_all(\"div\",class_=\"col-xl-5 col-lg-6 col-md-8 col-sm-12\")\n",
    "    for check_row in soup_div_xl5:\n",
    "        data=check_row.find_all(strong_=\"\",string='')\n",
    "        flag1=flag2=flag3=True\n",
    "        for row in data:\n",
    "            if(\"Released:  \" in row.text and flag1==True):\n",
    "                flag1=False\n",
    "                s1=row.text.strip()\n",
    "                s1=s1.replace(\"Released:\",\"\")\n",
    "                s1=s1.replace(\" \",\"\")\n",
    "                if(s1!='N/A'):\n",
    "                    release_year.append(s1)\n",
    "                else:\n",
    "                    release_year.append(np.nan)\n",
    "                \n",
    "            if(\"Genre: \" in row.text and flag2==True):\n",
    "                flag2=False\n",
    "                s2=row.text.strip()\n",
    "                s2=s2.replace(\"Genre:\",\"\")\n",
    "                s2=s2.replace(\"\\n\",\"\")\n",
    "                s2=s2.replace(\" \",\"\")\n",
    "                if(s2!='N/A'):\n",
    "                    genres.append(s2)\n",
    "                else:\n",
    "                    genres.append(np.nan)\n",
    "                \n",
    "            if(\"Casts: \" in row.text and flag3==True):\n",
    "                flag3=False\n",
    "                s3=row.text.strip()\n",
    "                s3=s3.replace(\"Casts:\",\"\")\n",
    "                s3=s3.replace(\"\\n\",\"\")\n",
    "                s3=s3.replace(\" \",\"\")\n",
    "                if(s3!='N/A'):\n",
    "                    casts.append(s3)\n",
    "                else:\n",
    "                    casts.append(np.nan)\n",
    "                \n",
    "                \n",
    "    soup_div_xl6=soup.find_all(\"div\",class_=\"col-xl-6 col-lg-6 col-md-4 col-sm-12\")\n",
    "    for check_row in soup_div_xl6:\n",
    "        data=check_row.find_all(strong_=\"\",string='')\n",
    "        \n",
    "        flag1=flag2=flag3=True\n",
    "        for row in data:\n",
    "            if(\"Duration:\" in row.text and flag1==True):\n",
    "                flag1=False\n",
    "                s1=row.text.strip()\n",
    "                s1=s1.replace(\"Duration:\",\"\")\n",
    "                s1=s1.replace(\"\\n\",\"\")\n",
    "                s1=s1.replace(\" \",\"\")\n",
    "                s1=s1.replace(\"min\",\"\")\n",
    "                if(s1!='N/A'):\n",
    "                    s1=int(s1)\n",
    "                    duration.append(s1)\n",
    "                else:\n",
    "                    duration.append(np.nan)\n",
    "                \n",
    "            if(\"Country:\" in row.text and flag2==True):\n",
    "                flag2=False\n",
    "                s2=row.text.strip()\n",
    "                s2=s2.replace(\"Country:\",\"\")\n",
    "                s2=s2.replace(\"\\n\",\"\")\n",
    "                s2=s2.replace(\" \",\"\")\n",
    "                if(s2!='N/A'):\n",
    "                    country.append(s2)\n",
    "                else:\n",
    "                    country.append(np.nan)\n",
    "                \n",
    "            if(\"Production:\" in row.text and flag3==True):\n",
    "                flag3=False\n",
    "                s3=row.text.strip()\n",
    "                s3=s3.replace(\"Production:\",\"\")\n",
    "                s3=s3.replace(\"\\n\",\"\")\n",
    "                s3=s3.replace(\" \",\"\")\n",
    "                if(s3!='N/A'):\n",
    "                    production.append(s3)\n",
    "                else:\n",
    "                    production.append(np.nan)\n",
    "    print(i)\n",
    "    i+=1"
   ]
  },
  {
   "cell_type": "code",
   "execution_count": null,
   "id": "41233568",
   "metadata": {},
   "outputs": [],
   "source": [
    "himovies_df= pd.DataFrame({\"movie_name\":movie_name,\"release_year\":release_year,\n",
    "                          \"imdb_grades\":imdb_grades,\"genres\":genres,\n",
    "                          \"casts\":casts,\"duration in min\":duration,\"country\":country,\n",
    "                          \"production\":production})"
   ]
  },
  {
   "cell_type": "code",
   "execution_count": 9,
   "id": "2b5d52cd",
   "metadata": {},
   "outputs": [],
   "source": [
    "himovies_df.rename(columns = {'movie_name':'Movie_Name', 'release_year':'Release_Year','imdb_grades':'IMDB_Score',\n",
    "                             'genres':'Genres','casts':'Casts','duration in min':'Duration','country':'Country',\n",
    "                             'production':'Production'}, inplace = True)"
   ]
  },
  {
   "cell_type": "code",
   "execution_count": 11,
   "id": "1e13430f",
   "metadata": {},
   "outputs": [],
   "source": [
    "#himovies_df.to_csv(r'C:\\Users\\almog\\Downloads\\data science project python\\data\\ALL_RAW_DATA.csv', index=False)\n",
    "himovies_df.to_csv(r'C:\\Users\\kon31\\OneDrive\\Desktop\\data science project python\\data\\ALL_RAW_DATA.csv', index=False)"
   ]
  }
 ],
 "metadata": {
  "kernelspec": {
   "display_name": "Python 3 (ipykernel)",
   "language": "python",
   "name": "python3"
  },
  "language_info": {
   "codemirror_mode": {
    "name": "ipython",
    "version": 3
   },
   "file_extension": ".py",
   "mimetype": "text/x-python",
   "name": "python",
   "nbconvert_exporter": "python",
   "pygments_lexer": "ipython3",
   "version": "3.9.7"
  }
 },
 "nbformat": 4,
 "nbformat_minor": 5
}
